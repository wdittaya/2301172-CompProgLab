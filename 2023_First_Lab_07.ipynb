{
  "cells": [
    {
      "cell_type": "markdown",
      "metadata": {
        "id": "view-in-github",
        "colab_type": "text"
      },
      "source": [
        "<a href=\"https://colab.research.google.com/github/wdittaya/2301172-CompProgLab/blob/main/2023_First_Lab_07.ipynb\" target=\"_parent\"><img src=\"https://colab.research.google.com/assets/colab-badge.svg\" alt=\"Open In Colab\"/></a>"
      ]
    },
    {
      "cell_type": "markdown",
      "id": "c6aae101",
      "metadata": {
        "id": "c6aae101"
      },
      "source": [
        "# Instructions\n",
        "\n",
        "1. Write everything after the tag `# YOUR CODE HERE`\n",
        "2. Delete the `raise NotImplementedError()` line when you start implementing your code. It will throw an error if you didn't implement anything (and, you will not got any score).\n",
        "3. Name your file with your student ID and lab number, e.g. `6431234523-lab-07.ipynb`\n",
        "4. If you want to run your function, do it in a separate cell. Do not run the function in the definition cell. **Note:** If you run the function in the definition cell, you will get an error with the hidden test case.\n",
        "\n",
        "**DO NOT CHANGE THE FUNCTION NAME!!!**"
      ]
    },
    {
      "cell_type": "markdown",
      "id": "57fc0c36",
      "metadata": {
        "id": "57fc0c36"
      },
      "source": [
        "#  Lab-06 Outline\n",
        "\n",
        "The objective of this lab is to practice with for files, for loops, and functions. You will implement a function that reads a file of grades and returns the GPA of the student."
      ]
    },
    {
      "cell_type": "markdown",
      "id": "fc6b54d2",
      "metadata": {
        "id": "fc6b54d2"
      },
      "source": [
        "# (2 pts.) Q1: Function that returns numeric grade\n",
        "\n",
        "Implement a function that takes a letter grade and **returns** the numeric grade. The function should return -1 if the letter grade is not valid.\n",
        "\n",
        "- Valid grades are: `A`, `B+`, `B`, `C+`, `C`, `D+`, `D`, `F`.\n",
        "- Numeric grades are: `4.0`, `3.5`, `3.0`, `2.5`, `2.0`, `1.5`, `1.0`, `0.0`."
      ]
    },
    {
      "cell_type": "markdown",
      "id": "8c45e687",
      "metadata": {
        "id": "8c45e687"
      },
      "source": [
        "Example test cases\n",
        "\n",
        "input: `A` output: `4.0`\\\n",
        "input: `B+` output: `3.5`\\\n",
        "input: `B` output: `3.0`\\\n",
        "input: `C+` output: `2.5`\\\n",
        "input: `C` output: `2.0`\\\n",
        "input: `D+` output: `1.5`\\\n",
        "input: `D` output: `1.0`\\\n",
        "input: `F` output: `0.0`\n",
        "input: `Z` output: `-1`"
      ]
    },
    {
      "cell_type": "code",
      "execution_count": null,
      "id": "93234834",
      "metadata": {
        "id": "93234834"
      },
      "outputs": [],
      "source": [
        "def get_grade(letter_grade):\n",
        "    # YOUR CODE HERE\n",
        "    raise NotImplementedError"
      ]
    },
    {
      "cell_type": "code",
      "execution_count": null,
      "id": "edee900a",
      "metadata": {
        "id": "edee900a"
      },
      "outputs": [],
      "source": [
        "from unittest.mock import patch\n",
        "from io import StringIO\n",
        "\n",
        "def test_get_grade(inputs, outputs):\n",
        "    expected_output = outputs\n",
        "    actual_output = get_grade(inputs)\n",
        "\n",
        "    assert expected_output == actual_output, 'Test Failed.\\nYour printed output: {}\\nExpected output: {}'.format(actual_output, expected_output)\n",
        "    print('Test Passed')"
      ]
    },
    {
      "cell_type": "code",
      "execution_count": null,
      "id": "928d8cf5",
      "metadata": {
        "id": "928d8cf5"
      },
      "outputs": [],
      "source": [
        "test_get_grade('A', 4.0)"
      ]
    },
    {
      "cell_type": "code",
      "execution_count": null,
      "id": "8deb8d07",
      "metadata": {
        "id": "8deb8d07"
      },
      "outputs": [],
      "source": [
        "test_get_grade('B+', 3.5)"
      ]
    },
    {
      "cell_type": "code",
      "execution_count": null,
      "id": "8116a0ef",
      "metadata": {
        "id": "8116a0ef"
      },
      "outputs": [],
      "source": [
        "test_get_grade('B', 3.0)"
      ]
    },
    {
      "cell_type": "code",
      "execution_count": null,
      "id": "f9011b80",
      "metadata": {
        "id": "f9011b80"
      },
      "outputs": [],
      "source": [
        "test_get_grade('C+', 2.5)"
      ]
    },
    {
      "cell_type": "code",
      "execution_count": null,
      "id": "6dae462f",
      "metadata": {
        "id": "6dae462f"
      },
      "outputs": [],
      "source": [
        "test_get_grade('C', 2.0)"
      ]
    },
    {
      "cell_type": "code",
      "execution_count": null,
      "id": "2dfadc4e",
      "metadata": {
        "id": "2dfadc4e"
      },
      "outputs": [],
      "source": [
        "test_get_grade('D+', 1.5)"
      ]
    },
    {
      "cell_type": "code",
      "execution_count": null,
      "id": "0243b696",
      "metadata": {
        "id": "0243b696"
      },
      "outputs": [],
      "source": [
        "test_get_grade('D', 1.0)"
      ]
    },
    {
      "cell_type": "code",
      "execution_count": null,
      "id": "034a9eb0",
      "metadata": {
        "id": "034a9eb0"
      },
      "outputs": [],
      "source": [
        "test_get_grade('F', 0.0)"
      ]
    },
    {
      "cell_type": "code",
      "execution_count": null,
      "id": "9ef62a2b",
      "metadata": {
        "id": "9ef62a2b"
      },
      "outputs": [],
      "source": [
        "test_get_grade('Z', -1)"
      ]
    },
    {
      "cell_type": "markdown",
      "id": "6a6adec3",
      "metadata": {
        "id": "6a6adec3"
      },
      "source": [
        "# Q2 (8 pts.)\n",
        "\n",
        "Implement a function that reads a file of grades and print the GPA of the student. Ignore the grades that are not valid. Round the GPA to two decimal places using `round()` function."
      ]
    },
    {
      "cell_type": "markdown",
      "metadata": {
        "id": "8LdqdkrkPuqR"
      },
      "source": [
        "Example test cases\n",
        "- texts in **bold** are input from the user\n",
        "- `⏎` indicates the cariage return symbol (i.e. the user pressed the enter key)\n",
        "\n",
        "Example file: `grades1.txt`\n",
        "```\n",
        "A\n",
        "B+\n",
        "A\n",
        "B+\n",
        "B\n",
        "C+\n",
        "A\n",
        "```\n",
        "\n",
        "Enter the file name: **grades1.txt⏎**\\\n",
        "GPA: 3.5\n",
        "\n",
        "Example file: `grades2.txt`\n",
        "```\n",
        "C\n",
        "C\n",
        "A-\n",
        "C\n",
        "C+\n",
        "D\n",
        "C\n",
        "A\n",
        "D+\n",
        "F\n",
        "C+\n",
        "```\n",
        "\n",
        "Enter the file name: **grades2.txt⏎**\\\n",
        "GPA: 1.95\n"
      ],
      "id": "8LdqdkrkPuqR"
    },
    {
      "cell_type": "code",
      "execution_count": null,
      "metadata": {
        "id": "sRT-v0PnPuqS"
      },
      "outputs": [],
      "source": [
        "def get_gpa():\n",
        "    # YOUR CODE HERE\n",
        "    raise NotImplementedError"
      ],
      "id": "sRT-v0PnPuqS"
    },
    {
      "cell_type": "code",
      "execution_count": null,
      "id": "f7104e05",
      "metadata": {
        "id": "f7104e05"
      },
      "outputs": [],
      "source": [
        "get_gpa()"
      ]
    },
    {
      "cell_type": "code",
      "execution_count": null,
      "metadata": {
        "id": "IXiS25r6PuqS"
      },
      "outputs": [],
      "source": [
        "from unittest.mock import patch\n",
        "from io import StringIO\n",
        "\n",
        "def test_get_gpa(inputs, outputs):\n",
        "    with patch('builtins.input', side_effect=inputs), patch('sys.stdout', new_callable=StringIO) as mock_stdout:\n",
        "        get_gpa()\n",
        "\n",
        "        expected_output = outputs.strip()\n",
        "        actual_output = mock_stdout.getvalue().strip()\n",
        "\n",
        "        assert expected_output == actual_output, 'Test Failed.\\nYour printed output: {}\\nExpected output: {}'.format(actual_output, expected_output)\n",
        "    print('Test Passed')"
      ],
      "id": "IXiS25r6PuqS"
    },
    {
      "cell_type": "code",
      "execution_count": null,
      "metadata": {
        "id": "nVF9pa-UPuqS"
      },
      "outputs": [],
      "source": [
        "test_get_gpa(['grades1.txt'], 'GPA: 3.5')"
      ],
      "id": "nVF9pa-UPuqS"
    },
    {
      "cell_type": "code",
      "execution_count": null,
      "id": "386a193b",
      "metadata": {
        "id": "386a193b"
      },
      "outputs": [],
      "source": [
        "test_get_gpa(['grades2.txt'], 'GPA: 1.95')"
      ]
    }
  ],
  "metadata": {
    "kernelspec": {
      "display_name": "Python 3.8.8 ('base')",
      "language": "python",
      "name": "python3"
    },
    "language_info": {
      "codemirror_mode": {
        "name": "ipython",
        "version": 3
      },
      "file_extension": ".py",
      "mimetype": "text/x-python",
      "name": "python",
      "nbconvert_exporter": "python",
      "pygments_lexer": "ipython3",
      "version": "3.10.4"
    },
    "vscode": {
      "interpreter": {
        "hash": "03adaee776292f2263426464639388749bf78930e8b883d5f988c57ae7094739"
      }
    },
    "colab": {
      "provenance": [],
      "include_colab_link": true
    }
  },
  "nbformat": 4,
  "nbformat_minor": 5
}