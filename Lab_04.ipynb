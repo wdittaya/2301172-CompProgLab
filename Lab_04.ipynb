{
  "cells": [
    {
      "cell_type": "markdown",
      "metadata": {
        "id": "view-in-github",
        "colab_type": "text"
      },
      "source": [
        "<a href=\"https://colab.research.google.com/github/wdittaya/2301172-CompProgLab/blob/main/Lab_04.ipynb\" target=\"_parent\"><img src=\"https://colab.research.google.com/assets/colab-badge.svg\" alt=\"Open In Colab\"/></a>"
      ]
    },
    {
      "cell_type": "markdown",
      "metadata": {
        "id": "oR6Dh7kx9d1O"
      },
      "source": [
        "# Instructions\n",
        "\n",
        "1. Write everything after the tag `# YOUR CODE HERE`\n",
        "2. Delete the `raise NotImplementedError()` line when you start implementing your code. It will throw an error if you didn't implement anything (and, you will not got any score).\n",
        "3. Name your file with your student ID and lab number, e.g. `6431234523-lab-03.ipynb`\n",
        "4. If you want to run your function, do it in a separate cell. Do not run the function in the definition cell. **Note:** If you run the function in the definition cell, you will get an error with the hidden test case.\n",
        "\n",
        "**DO NOT CHANGE THE FUNCTION NAME!!!**"
      ]
    },
    {
      "cell_type": "markdown",
      "metadata": {
        "id": "XLhCVQ6T9d1S"
      },
      "source": [
        "# Lab-04 Outline\n",
        "\n",
        "The objective of this lab is to practice with a little bit more complex if statements and functions. You will be asked to implement function that calculates the taxable income of a person."
      ]
    },
    {
      "cell_type": "markdown",
      "metadata": {
        "id": "BdSL8GRI9d1S"
      },
      "source": [
        "# (10 pts.) Q1 - Implement the function `calculate_taxable_income`\n",
        "\n",
        "Ref: https://www.rd.go.th/english/6045.html\n",
        "\n",
        "The taxable income is calculated from **assessable income**, **deductible expenses** and **allowance**. There are 8 categories of assessable income:\n",
        "1. income from personal services rendered to employers;\n",
        "2. income by virtue of jobs, positions or services rendered;\n",
        "3. income from goodwill, copyright, franchise, other rights, annuity or income in the nature of yearly payments derived from a will or any other juristic Act or judgment of the Court;\n",
        "4. income in the nature of dividends, interest on deposits with banks in Thailand, shares of profits or other benefits from a juristic company, juristic partnership, or mutual fund, payments received as a result of the reduction of capital, a bonus, an increased capital holdings, gains from amalgamation, acquisition or dissolution of juristic companies or partnerships, and gains from transferring of shares or partnership holdings;\n",
        "5. income from letting of property and from breaches of contracts, installment sales or hire-purchase contracts;\n",
        "6. income from liberal professions;\n",
        "7. income from construction and other contracts of work;\n",
        "8. income from business, commerce, agriculture, industry, transport or any other activity not specified earlier\n",
        "\n",
        "Deductible expenses are:\n",
        "\n",
        "| Type of Income   | Deduction                                           |\n",
        "|------------------|-----------------------------------------------------|\n",
        "| a. Income from employment             | 40% but not exceeding 60,000 baht                   |\n",
        "| b. Income received from copyright     | 40% but not exceeding 60,000 baht                   |\n",
        "| c. Income from letting out of property on hire                                    |                                                     |\n",
        "|    1) Building and wharves            | 30%                                                 |\n",
        "|    2) Agricultural land               | 20%                                                 |\n",
        "|    3) All other types of land         | 15%                                                 |\n",
        "|    4) Vehicles                        | 30                                                  |\n",
        "|    5) Any other type of property      | 10%                                                 |\n",
        "| d. Income from liberal professions    | 30% except for the medical profession where 60% is allowed |\n",
        "| e. Income derived from contract of work whereby the contractor provides essential  materials besides tools                                   | Actual expense or 70%                               |\n",
        "| f. Income derived from business, commerce, industry, transport, or any other activities not specified in a. to e.                             | Actual expense or **85% |\n",
        "\n",
        "A taxpayer with spouse has 2 choices to file a tax return:\n",
        "- Filing a joint tax return\n",
        "- Filing a separate tax return\n",
        "If a taxpayer chooses to file a joint tax return, the spouse’s income will be added to the taxpayer’s income and the tax will be calculated on the total income. If a taxpayer chooses to file a separate tax return, the spouse’s income will be calculated separately.\n",
        "\n",
        "The allowance for spouse will be given only to the case of filing a joint tax return.\n",
        "\n",
        "Allowance for personal income tax are:\n",
        "\n",
        "| Types of Allowances                   | Amount                                      |\n",
        "|---------------------------------------|---------------------------------------------|\n",
        "| I. Personal allowance                    | 30,000 baht for the taxpayer                |\n",
        "|                                       | 30,000 baht for the taxpayer’s spouse       |\n",
        "|                                       | 30,000 baht for each partner (non-juristic partnership or body of persons), but not exceeding 60,000 baht in total             |\n",
        "| II. Spouse allowance                      | 30,000 baht                                |\n",
        "| III. Child allowance (child under 25 years of age and studying at educational institution, or a minor, or an adjusted incompetent or quasi-incompetent person)  | 15,000 baht each (limited to three children)|\n",
        "| IV. Education (additional allowance for child studying in educational institution in Thailand)          | 2,000 baht each child                     |\n",
        "| V. Parents allowance                     | 30,000 baht for each of taxpayer’s and     |\n",
        "|                                       | spouse’s parents if such parent is above 60 years old and earns less than 30,000 baht                                       |\n",
        "| VI. Life insurance premium paid by taxpayer or spouse         | Amount actually paid but not exceeding 100,000 baht each  |\n",
        "| VII. Approved provident fund contributions paid by taxpayer or spouse            | Amount actually paid at the rate not more than 15% of wage, but not exceeding 500,000 baht |\n",
        "| VIII. Long term equity fund                 | Amount actually paid at the rate not more than 15% of wage, but not exceeding 500,000 baht |\n",
        "| IX. Home mortgage interest                | Amount actually paid but not exceeding 100,000 baht   |\n",
        "| X. Social insurance contributions paid by taxpayer or spouse  | Amount actually paid each                  |\n",
        "| XI. Charitable contributions                                                    | Amount actually donated but not exceeding 10% of the income after standard deductions and the above allowances |\n"
      ]
    },
    {
      "cell_type": "markdown",
      "metadata": {
        "id": "AsS2PvHO9d1W"
      },
      "source": [
        "Implement the function `calculate_taxable_income` that takes reads\n",
        "- filing status (1 for filing a joint tax return, 2 for filing a separate tax return)\n",
        "- the amount of income in each category\n",
        "- the choice of deductible expenses in some cases e.g.\n",
        "    - property type in c.\n",
        "    - medical profession or not in d.\n",
        "    - actual expense with the amount or fixed rate in e. and f.\n",
        "- amount of each allowance\n",
        "Then, calculates deductible expenses and taxable income.\n",
        "\n",
        "\n",
        "Example test cases\n",
        "- texts in **bold** are input from the user\n",
        "- `⏎` indicates the cariage return symbol (i.e. the user pressed the enter key)\n",
        "\n",
        "Enter filing status (1 for filing a joint tax return, 2 for filing a separate tax return): **2⏎**\\\n",
        "Enter income type 1: **1000000⏎**\\\n",
        "Enter income type 2: **0⏎**\\\n",
        "Enter income type 3: **0⏎**\\\n",
        "Enter income type 4: **0⏎**\\\n",
        "Enter income type 5: **0⏎**\\\n",
        "Enter income type 6: **0⏎**\\\n",
        "Enter income type 7: **0⏎**\\\n",
        "Enter income type 8: **0⏎**\\\n",
        "Deductible expenses for income type a. and b. = 60000 Baht\\\n",
        "Deductible expenses for income type c. = 0 Baht\\\n",
        "Deductible expenses for income type d. = 0 Baht\\\n",
        "Deductible expenses for income type e. = 0 Baht\\\n",
        "Deductible expenses for income type f. = 0 Baht\\\n",
        "Allowance for personal income tax = 30000 Baht\\\n",
        "Allowance for spouse = 0 Baht\\\n",
        "Allowance for child = 0 Baht\\\n",
        "Allowance for education = 0 Baht\\\n",
        "Enter allowance for parents: **0⏎**\\\n",
        "Enter life insurance premium paid by taxpayer: **100000⏎**\\\n",
        "Enter provident fund contributions paid by taxpayer: **100000⏎**\\\n",
        "Enter long term equity fund: **100000⏎**\\\n",
        "Enter home mortgage interest: **0⏎**\\\n",
        "Enter social insurance contributions paid by taxpayer: **9000⏎**\\\n",
        "Enter charitable contributions: **0⏎**\\\n",
        "\n",
        "Taxable income = 1000000-399000 = 600100 Baht"
      ]
    },
    {
      "cell_type": "code",
      "execution_count": null,
      "metadata": {
        "id": "_O50V9ol9d1X"
      },
      "outputs": [],
      "source": [
        "def calculate_taxable_income():\n",
        "    # YOUR CODE HERE\n",
        "    raise NotImplementedError()"
      ]
    },
    {
      "cell_type": "code",
      "execution_count": null,
      "metadata": {
        "id": "tjjdYkyF9d1Z"
      },
      "outputs": [],
      "source": [
        "from unittest.mock import patch\n",
        "from io import StringIO\n",
        "\n",
        "def test_calculate_taxable_income(inputs, outputs):\n",
        "    with patch('builtins.input', side_effect=inputs), patch('sys.stdout', new_callable=StringIO) as mock_stdout:\n",
        "        calculate_taxable_income()\n",
        "\n",
        "        expected_output = outputs.strip()\n",
        "        actual_output = mock_stdout.getvalue().strip()\n",
        "\n",
        "        # comparing expected and actual output\n",
        "        assert expected_output == actual_output, 'Test Failed.\\nYour printed output: {}\\nExpected output: {}'.format(actual_output, expected_output)\n",
        "    print('Test Passed')"
      ]
    },
    {
      "cell_type": "code",
      "execution_count": null,
      "metadata": {
        "id": "jD97IZxQ9d1Z"
      },
      "outputs": [],
      "source": [
        "test_calculate_taxable_income(['2','1000000','0','0','0','0','0','0','0','0','100000','100000','100000','0','9000','0'], 'Deductible expenses for income type a. and b. = 60000 Baht\\nDeductible expenses for income type c. = 0 Baht\\nDeductible expenses for income type d. = 0 Baht\\nDeductible expenses for income type e. = 0 Baht\\nDeductible expenses for income type f. = 0 Baht\\nAllowance for personal income tax = 30000 Baht\\nAllowance for spouse = 0 Baht\\nAllowance for child = 0 Baht\\nAllowance for education = 0 Baht\\n\\nTaxable income = 1000000-399000 = 600100 Baht\\n')"
      ]
    },
    {
      "cell_type": "code",
      "execution_count": null,
      "metadata": {
        "id": "CXlq7yrp9d1Z"
      },
      "outputs": [],
      "source": []
    }
  ],
  "metadata": {
    "kernelspec": {
      "display_name": "compprog",
      "language": "python",
      "name": "python3"
    },
    "language_info": {
      "codemirror_mode": {
        "name": "ipython",
        "version": 3
      },
      "file_extension": ".py",
      "mimetype": "text/x-python",
      "name": "python",
      "nbconvert_exporter": "python",
      "pygments_lexer": "ipython3",
      "version": "3.10.4"
    },
    "orig_nbformat": 4,
    "colab": {
      "provenance": [],
      "include_colab_link": true
    }
  },
  "nbformat": 4,
  "nbformat_minor": 0
}