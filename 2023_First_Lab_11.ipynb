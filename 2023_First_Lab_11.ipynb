{
  "cells": [
    {
      "cell_type": "markdown",
      "metadata": {
        "id": "view-in-github",
        "colab_type": "text"
      },
      "source": [
        "<a href=\"https://colab.research.google.com/github/wdittaya/2301172-CompProgLab/blob/main/2023_First_Lab_11.ipynb\" target=\"_parent\"><img src=\"https://colab.research.google.com/assets/colab-badge.svg\" alt=\"Open In Colab\"/></a>"
      ]
    },
    {
      "cell_type": "markdown",
      "metadata": {
        "id": "maunqsW5U9cZ"
      },
      "source": [
        "# Instructions\n",
        "\n",
        "1. Write everything after the tag `# YOUR CODE HERE`\n",
        "2. Delete the `raise NotImplementedError()` line when you start implementing your code. It will throw an error if you didn't implement anything (and, you will not got any score).\n",
        "3. Name your file with your student ID and lab number, e.g. `6431234523-lab-11.ipynb`\n",
        "4. If you want to run your function, do it in a separate cell. Do not run the function in the definition cell. **Note:** If you run the function in the definition cell, you will get an error with the hidden test case.\n",
        "\n",
        "**DO NOT CHANGE THE FUNCTION NAME!!!**"
      ]
    },
    {
      "cell_type": "markdown",
      "metadata": {
        "id": "98nSKDKNU9cb"
      },
      "source": [
        "# Lab-11 Outline: Word count"
      ]
    },
    {
      "cell_type": "markdown",
      "metadata": {
        "id": "lvwPRqzYU9cc"
      },
      "source": [
        "# (3 pts.) Q1 : Character count\n",
        "\n",
        "Write the function `char_count(text)` to count frequencies of each unique character except white space characters in the input text. All uppercase letters should be converted to lowercase. The function should **return** a dictionary of characters and their frequency.\n",
        "\n",
        "E.g. `'A map'` has\n",
        "- 2 `a`\n",
        "- 1 `m`\n",
        "- 1 `p`.\n",
        "\n",
        "Therefore, `char_count('A map')` should return `{'a':2, 'm':1, 'p':1}`\n",
        "\n",
        "Hints\n",
        "- Hint: `'A'.isspace()` returns `False`, while `' '.isspace()` returns `True`.\n",
        "- Hint2: `'A Big Tree'.lower()` returns `'a big tree'`."
      ]
    },
    {
      "cell_type": "markdown",
      "metadata": {
        "id": "Wv8_FaydU9cc"
      },
      "source": [
        "**Example test case**\n",
        "\n",
        "Text: `A map`\\\n",
        "Return: `{'a':2, 'm':1, 'p':1}`\n",
        "\n",
        "Text: `A Big Tree`\\\n",
        "Return: `{'a':1, 'b':1, 'g':1, 'i':1, 'r':1, 't':1, 'e':2}`"
      ]
    },
    {
      "cell_type": "code",
      "execution_count": null,
      "metadata": {
        "id": "ghewrkF9U9cc"
      },
      "outputs": [],
      "source": [
        "def char_count(text):\n",
        "    # YOUR CODE HERE\n",
        "    raise NotImplementedError()"
      ]
    },
    {
      "cell_type": "code",
      "execution_count": null,
      "metadata": {
        "id": "sW8EQ2C8U9cd"
      },
      "outputs": [],
      "source": [
        "def test_char_count(input_text, output_dict):\n",
        "    ans = char_count(input_text)\n",
        "    assert ans == output_dict, 'Test Failed.\\nYour return value: {}\\nExpected return value: {}'.format(ans, output_dict)\n",
        "    print('Test Passed')"
      ]
    },
    {
      "cell_type": "code",
      "execution_count": null,
      "metadata": {
        "id": "aRflsELSU9cd"
      },
      "outputs": [],
      "source": [
        "test_char_count('A map', {'a': 2, 'm': 1, 'p': 1})\n",
        "test_char_count('A Big Tree', {'a': 1, 'b': 1, 'g': 1, 'i': 1, 'r': 1, 't': 1, 'e': 2})"
      ]
    },
    {
      "cell_type": "markdown",
      "metadata": {
        "id": "_TwkDMXrU9cd"
      },
      "source": [
        "# (3 pts.) Q-2 Word count\n",
        "\n",
        "Write the function `word_count(text)` to count word frequencies.\n",
        "\n",
        "First of all, convert all alphabets to lowercase.. Then, split the lowercase text into a list of words using whitespace characters. Finaly, remove all non-alphabetic characters from words. The function should **return** the dictionary of words with their frequency.\n",
        "\n",
        "E.g. `'A a-a-b aab ab.'` should be\n",
        "- Converted to `'a a-a-b aab ab.'`.\n",
        "- Then, split to `['a', 'a-a-b', 'aab', 'ab.']`.\n",
        "- Finally, remove non-alphabetic character, to get `['a', 'aab', 'aab', 'ab']`.\n",
        "- Therefore, `word_count('A a-a-b aab ab.')` should return `{'a':1, 'aab':2, 'ab':1}`.\n",
        "\n",
        "Hint\n",
        "- `'map-of-the-word'.isalpha()` returns `False`, while\n",
        "- `'m'.isalpha()` returns `True`."
      ]
    },
    {
      "cell_type": "markdown",
      "metadata": {
        "id": "jF7fLWubU9cd"
      },
      "source": [
        "**Example test case**\n",
        "\n",
        "Text: `A a-a-b aab ab.`\\\n",
        "Return: `{'a':1, 'aab':2, 'ab':1}`\n",
        "\n",
        "Text: `map-of-the-world`\\\n",
        "Return: `{'mapoftheworld':1}`"
      ]
    },
    {
      "cell_type": "code",
      "execution_count": null,
      "metadata": {
        "id": "_LkyTmYPU9cd"
      },
      "outputs": [],
      "source": [
        "def word_count(text):\n",
        "    # YOUR CODE HERE\n",
        "    raise NotImplementedError()"
      ]
    },
    {
      "cell_type": "code",
      "execution_count": null,
      "metadata": {
        "id": "cy8b1OPoU9ce"
      },
      "outputs": [],
      "source": [
        "def test_word_count(input_text, output_dict):\n",
        "    ans = word_count(input_text)\n",
        "    assert ans == output_dict, 'Test Failed.\\nYour return value: {}\\nExpected return value: {}'.format(ans, output_dict)\n",
        "    print('Test Passed')"
      ]
    },
    {
      "cell_type": "code",
      "execution_count": null,
      "metadata": {
        "id": "Av7XzgtOU9ce"
      },
      "outputs": [],
      "source": [
        "test_word_count('A a-a-b aab ab.', {'a': 1, 'aab': 2, 'ab': 1})\n",
        "test_word_count('map-of-the-world', {'mapoftheworld': 1})"
      ]
    },
    {
      "cell_type": "markdown",
      "metadata": {
        "id": "ltcmZm1JU9ce"
      },
      "source": [
        "# (4 pts.) Q-3 Word count from file\n",
        "\n",
        "Write the `main()` function and **print** out the 10 most frequent characters with their frequencies and 10 most words with their frequencies.\n",
        "1. Get the filename from the user\n",
        "    - Add option `encoding='utf-8-sig'` to the `open` function.\n",
        "    - E.g. `open('pg1513.txt', encoding='utf-8-sig')`\n",
        "2. Read the text in the file\n",
        "3. Find the character frequency using `char_count` function and print 10 most frequent characters with their frequencies.\n",
        "4. Find the word frequency using `word_count` function and print 10 most frequent words with their frequencies.\n",
        "\n",
        "Hint\n",
        "- `sorted([(10,'z'), (20,'a')], reverse=True)` returns `[(20,'a'), (10,'z')]`."
      ]
    },
    {
      "cell_type": "markdown",
      "metadata": {
        "id": "bRaBaV8kU9ce"
      },
      "source": [
        "**Example test case**\n",
        "- texts in **bold** are input from the user\n",
        "- `⏎` indicates the cariage return symbol (i.e. the user pressed the enter key)\n",
        "\n",
        "Input: **pg1513.txt⏎**\\\n",
        "e 14811 \\\n",
        "t 11316 \\\n",
        "o 10237 \\\n",
        "a 9360 \\\n",
        "i 8104 \\\n",
        "r 7749 \\\n",
        "n 7625 \\\n",
        "s 7451 \\\n",
        "h 7348 \\\n",
        "l 5527 \\\n",
        "the 875 \\\n",
        "and 803 \\\n",
        "to 623 \\\n",
        "i 580 \\\n",
        "a 541 \\\n",
        "of 517 \\\n",
        "in 393 \\\n",
        "is 366 \\\n",
        "you 362 \\\n",
        "that 361"
      ]
    },
    {
      "cell_type": "code",
      "execution_count": null,
      "metadata": {
        "id": "FwCq5_mdU9ce"
      },
      "outputs": [],
      "source": [
        "def main():\n",
        "    # YOUR CODE HERE\n",
        "    raise NotImplementedError()"
      ]
    },
    {
      "cell_type": "code",
      "execution_count": null,
      "metadata": {
        "id": "tVbTSfPOU9cf"
      },
      "outputs": [],
      "source": [
        "from unittest.mock import patch\n",
        "from io import StringIO\n",
        "\n",
        "def test_main(inputs, outputs):\n",
        "    with patch('builtins.input', side_effect=inputs), patch('sys.stdout', new_callable=StringIO) as mock_stdout:\n",
        "        main()\n",
        "\n",
        "        ans = mock_stdout.getvalue()\n",
        "\n",
        "    assert ans == outputs, 'Test Failed.\\nYour return value: {}\\nExpected return value: {}'.format(ans, outputs)\n",
        "    print('Test Passed')"
      ]
    },
    {
      "cell_type": "code",
      "execution_count": null,
      "metadata": {
        "id": "g1QLNZZcU9cf"
      },
      "outputs": [],
      "source": [
        "test_main(['pg1513.txt'], 'e 14811\\nt 11316\\no 10237\\na 9360\\ni 8104\\nr 7749\\nn 7625\\ns 7451\\nh 7348\\nl 5527\\nthe 875\\nand 803\\nto 623\\ni 580\\na 541\\nof 517\\nin 393\\nis 366\\nyou 362\\nthat 361\\n')"
      ]
    }
  ],
  "metadata": {
    "kernelspec": {
      "display_name": "Python 3",
      "language": "python",
      "name": "python3"
    },
    "language_info": {
      "codemirror_mode": {
        "name": "ipython",
        "version": 3
      },
      "file_extension": ".py",
      "mimetype": "text/x-python",
      "name": "python",
      "nbconvert_exporter": "python",
      "pygments_lexer": "ipython3",
      "version": "3.10.4"
    },
    "vscode": {
      "interpreter": {
        "hash": "2237c226f13bb83c7a8e8fb332a785d54cc3cc3adaf4a8b1a6982f28f305e0c8"
      }
    },
    "colab": {
      "provenance": [],
      "include_colab_link": true
    }
  },
  "nbformat": 4,
  "nbformat_minor": 0
}