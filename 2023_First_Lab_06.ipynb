{
  "cells": [
    {
      "cell_type": "markdown",
      "metadata": {
        "id": "view-in-github",
        "colab_type": "text"
      },
      "source": [
        "<a href=\"https://colab.research.google.com/github/wdittaya/2301172-CompProgLab/blob/main/2023_First_Lab_06.ipynb\" target=\"_parent\"><img src=\"https://colab.research.google.com/assets/colab-badge.svg\" alt=\"Open In Colab\"/></a>"
      ]
    },
    {
      "cell_type": "markdown",
      "id": "c6aae101",
      "metadata": {
        "id": "c6aae101"
      },
      "source": [
        "# Instructions\n",
        "\n",
        "1. Write everything after the tag `# YOUR CODE HERE`\n",
        "2. Delete the `raise NotImplementedError()` line when you start implementing your code. It will throw an error if you didn't implement anything (and, you will not got any score).\n",
        "3. Name your file with your student ID and lab number, e.g. `6431234523-lab-06.ipynb`\n",
        "4. If you want to run your function, do it in a separate cell. Do not run the function in the definition cell. **Note:** If you run the function in the definition cell, you will get an error with the hidden test case.\n",
        "\n",
        "**DO NOT CHANGE THE FUNCTION NAME!!!**"
      ]
    },
    {
      "cell_type": "markdown",
      "id": "57fc0c36",
      "metadata": {
        "id": "57fc0c36"
      },
      "source": [
        "#  Lab-06 Outline\n",
        "\n",
        "The objective of this lab is to practice with loop structures. You will implement loops using both while and for structures with the range function. You will also implement nested loops."
      ]
    },
    {
      "cell_type": "markdown",
      "id": "fc6b54d2",
      "metadata": {
        "id": "fc6b54d2"
      },
      "source": [
        "# (10 pts.) Q1\n",
        "\n",
        "Implement a function that reads a positive number $n$ and print out if $n$ is a prime number or not.\n",
        "\n",
        "    A prime number is a number that is divisible only by 1 and itself.\n",
        "\n",
        "You can assume that the input $n$ is a positive integer."
      ]
    },
    {
      "cell_type": "markdown",
      "id": "8c45e687",
      "metadata": {
        "id": "8c45e687"
      },
      "source": [
        "Example test cases\n",
        "- texts in **bold** are input from the user\n",
        "- `⏎` indicates the cariage return symbol (i.e. the user pressed the enter key)\n",
        "\n",
        "Enter n : **3⏎**\\\n",
        "Yes\n",
        "\n",
        "Enter n : **1⏎** \\\n",
        "No\n",
        "\n",
        "Enter n : **97⏎** \\\n",
        "Yes\n",
        "\n",
        "Enter n : **100⏎** \\\n",
        "No"
      ]
    },
    {
      "cell_type": "code",
      "execution_count": null,
      "id": "93234834",
      "metadata": {
        "id": "93234834"
      },
      "outputs": [],
      "source": [
        "def check_prime():\n",
        "    # YOUR CODE HERE\n",
        "    raise NotImplementedError"
      ]
    },
    {
      "cell_type": "code",
      "execution_count": null,
      "id": "edee900a",
      "metadata": {
        "id": "edee900a"
      },
      "outputs": [],
      "source": [
        "from unittest.mock import patch\n",
        "from io import StringIO\n",
        "\n",
        "def test_check_prime(inputs, outputs):\n",
        "    with patch('builtins.input', side_effect=inputs), patch('sys.stdout', new_callable=StringIO) as mock_stdout:\n",
        "        check_prime()\n",
        "\n",
        "        expected_output = outputs\n",
        "        actual_output = mock_stdout.getvalue()\n",
        "\n",
        "        assert expected_output == actual_output, 'Test Failed.\\nYour printed output: {}\\nExpected output: {}'.format(actual_output, expected_output)\n",
        "    print('Test Passed')"
      ]
    },
    {
      "cell_type": "code",
      "execution_count": null,
      "id": "928d8cf5",
      "metadata": {
        "id": "928d8cf5"
      },
      "outputs": [],
      "source": [
        "test_check_prime(['3'],'Yes\\n')"
      ]
    },
    {
      "cell_type": "code",
      "execution_count": null,
      "id": "8deb8d07",
      "metadata": {
        "id": "8deb8d07"
      },
      "outputs": [],
      "source": [
        "test_check_prime(['1'],'No\\n')"
      ]
    },
    {
      "cell_type": "code",
      "execution_count": null,
      "id": "8116a0ef",
      "metadata": {
        "id": "8116a0ef"
      },
      "outputs": [],
      "source": [
        "test_check_prime(['97'],'Yes\\n')"
      ]
    },
    {
      "cell_type": "code",
      "execution_count": null,
      "id": "f9011b80",
      "metadata": {
        "id": "f9011b80"
      },
      "outputs": [],
      "source": [
        "test_check_prime(['100'],'No\\n')"
      ]
    },
    {
      "cell_type": "markdown",
      "id": "6a6adec3",
      "metadata": {
        "id": "6a6adec3"
      },
      "source": [
        "# Q2 (15 pts.)\n",
        "\n",
        "Implement a function that reads a positive integer $n$ and prints all of its prime factors.\n",
        "\n",
        "    A factor of a number is an integer that divides the number evenly.\n",
        "\n",
        "You can assume that the input $n$ is a positive integer."
      ]
    },
    {
      "cell_type": "markdown",
      "metadata": {
        "id": "2NZY7Tv6FpD0"
      },
      "source": [
        "Example test cases\n",
        "- texts in **bold** are input from the user\n",
        "- `⏎` indicates the cariage return symbol (i.e. the user pressed the enter key)\n",
        "\n",
        "Enter n : **3⏎**\\\n",
        "3\n",
        "\n",
        "Enter n : **10⏎**\\\n",
        "2\\\n",
        "5\n",
        "\n",
        "Enter n : **30⏎**\\\n",
        "2\\\n",
        "3\\\n",
        "5\n",
        "\n",
        "Enter n : **399⏎**\\\n",
        "3\\\n",
        "7\\\n",
        "19"
      ],
      "id": "2NZY7Tv6FpD0"
    },
    {
      "cell_type": "code",
      "execution_count": null,
      "metadata": {
        "id": "IMl8Vc5bFpD1"
      },
      "outputs": [],
      "source": [
        "def print_prime_factors():\n",
        "    # YOUR CODE HERE\n",
        "    raise NotImplementedError"
      ],
      "id": "IMl8Vc5bFpD1"
    },
    {
      "cell_type": "code",
      "execution_count": null,
      "metadata": {
        "id": "X56o0ZJjFpD2"
      },
      "outputs": [],
      "source": [
        "from unittest.mock import patch\n",
        "from io import StringIO\n",
        "\n",
        "def test_print_prime_factors(inputs, outputs):\n",
        "    with patch('builtins.input', side_effect=inputs), patch('sys.stdout', new_callable=StringIO) as mock_stdout:\n",
        "        print_prime_factors()\n",
        "\n",
        "        expected_output = outputs\n",
        "        actual_output = mock_stdout.getvalue()\n",
        "\n",
        "        assert expected_output == actual_output, 'Test Failed.\\nYour printed output: {}\\nExpected output: {}'.format(actual_output, expected_output)\n",
        "    print('Test Passed')"
      ],
      "id": "X56o0ZJjFpD2"
    },
    {
      "cell_type": "code",
      "execution_count": null,
      "metadata": {
        "id": "jasHlUYBFpD3"
      },
      "outputs": [],
      "source": [
        "test_print_prime_factors(['3'],'3\\n')"
      ],
      "id": "jasHlUYBFpD3"
    },
    {
      "cell_type": "code",
      "execution_count": null,
      "id": "fa3e848d",
      "metadata": {
        "id": "fa3e848d"
      },
      "outputs": [],
      "source": [
        "test_print_prime_factors(['10'],'2\\n5\\n')"
      ]
    },
    {
      "cell_type": "code",
      "execution_count": null,
      "id": "b55d3be2",
      "metadata": {
        "id": "b55d3be2"
      },
      "outputs": [],
      "source": [
        "test_print_prime_factors(['30'],'2\\n3\\n5\\n')"
      ]
    },
    {
      "cell_type": "code",
      "execution_count": null,
      "id": "f560fe0e",
      "metadata": {
        "id": "f560fe0e"
      },
      "outputs": [],
      "source": [
        "test_print_prime_factors(['399'],'3\\n7\\n19\\n')"
      ]
    },
    {
      "cell_type": "markdown",
      "id": "a07d78f7",
      "metadata": {
        "id": "a07d78f7"
      },
      "source": [
        "# Q3 (10 pts.)\n",
        "\n",
        "Implement a simple ATM that receives the deposit and withdrawal commands and amounts from the user. The ATM should stop when the user enters the special command `exit` and print the final balance. Round the printed balance to two decimal places.\n",
        "\n",
        "Assume that the starting amount is 50000.\n",
        " If the user enters an invalid command or amount, print the error message."
      ]
    },
    {
      "cell_type": "markdown",
      "metadata": {
        "id": "zPqnQVksFpD6"
      },
      "source": [
        "Example test cases\n",
        "- texts in **bold** are input from the user\n",
        "- `⏎` indicates the cariage return symbol (i.e. the user pressed the enter key)\n",
        "\n",
        "Case 1:\\\n",
        "Enter command and amount : **D 100⏎**\\\n",
        "Enter command and amount : **W 500⏎**\\\n",
        "Enter command and amount : **W 10000⏎**\\\n",
        "Enter command and amount : **W 100000⏎**\\\n",
        "Insufficient balance \\\n",
        "Enter command and amount : **D 100000⏎**\\\n",
        "Enter command and amount : **exit⏎** \\\n",
        "139600.0\n",
        "\n",
        "Case 2:\\\n",
        "Enter command and amount : **exit⏎** \\\n",
        "50000.0\n",
        "\n",
        "Case 3:\\\n",
        "Enter command and amount : **C 47668.21⏎**\\\n",
        "Invalid command \\\n",
        "Enter command and amount : **D 43118⏎**\\\n",
        "Enter command and amount : **exit⏎** \\\n",
        "93118.0\n",
        "\n",
        "Case 4:\\\n",
        "Enter command and amount : **W 12913.24⏎**\\\n",
        "Enter command and amount : **A 8947.18⏎**\\\n",
        "Invalid command \\\n",
        "Enter command and amount : **W 10462⏎**\\\n",
        "Enter command and amount : **D 6503.69⏎**\\\n",
        "Enter command and amount : **W 100000⏎**\\\n",
        "Insufficient balance \\\n",
        "Enter command and amount : **exit⏎** \\\n",
        "33128.45\n",
        "\n",
        "Case 5:\\\n",
        "Enter command and amount : **W 0⏎**\\\n",
        "Enter command and amount : **D 0⏎**\\\n",
        "Enter command and amount : **exit⏎** \\\n",
        "50000.0\n",
        "\n",
        "Case 6:\\\n",
        "Enter command and amount : **W 100000⏎**\\\n",
        "Insufficient balance \\\n",
        "Enter command and amount : **exit⏎** \\\n",
        "50000.0"
      ],
      "id": "zPqnQVksFpD6"
    },
    {
      "cell_type": "code",
      "execution_count": null,
      "metadata": {
        "id": "Q03GjRZAFpD6"
      },
      "outputs": [],
      "source": [
        "def simple_atm():\n",
        "    # YOUR CODE HERE\n",
        "    raise NotImplementedError"
      ],
      "id": "Q03GjRZAFpD6"
    },
    {
      "cell_type": "code",
      "execution_count": null,
      "metadata": {
        "id": "vVkMzNbqFpD7"
      },
      "outputs": [],
      "source": [
        "from unittest.mock import patch\n",
        "from io import StringIO\n",
        "import random\n",
        "\n",
        "def test_simple_atm(inputs, outputs):\n",
        "    with patch('builtins.input', side_effect=inputs), patch('sys.stdout', new_callable=StringIO) as mock_stdout:\n",
        "        simple_atm()\n",
        "\n",
        "        expected_output = outputs\n",
        "        actual_output = mock_stdout.getvalue()\n",
        "\n",
        "        ans_list = mock_stdout.getvalue().split()\n",
        "        out_list = outputs.split()\n",
        "\n",
        "        assert all(round(float(ans),2) == round(float(out),2) for ans,out in zip(ans_list, out_list) if ans.replace('.','').isdigit() and out.replace('.','').isdigit()), 'Test Failed.\\nYour printed output: {}\\nExpected output: {}'.format(actual_output, expected_output)\n",
        "    print('Test Passed')"
      ],
      "id": "vVkMzNbqFpD7"
    },
    {
      "cell_type": "code",
      "execution_count": null,
      "id": "dd9e7827",
      "metadata": {
        "id": "dd9e7827"
      },
      "outputs": [],
      "source": [
        "test_simple_atm(['D 100', 'W 500', 'W 10000', 'W 100000', 'D 100000', 'exit'],'Insufficient balance\\n139600.0\\n')"
      ]
    },
    {
      "cell_type": "code",
      "execution_count": null,
      "id": "69c7a991",
      "metadata": {
        "id": "69c7a991"
      },
      "outputs": [],
      "source": [
        "test_simple_atm(['exit'],'50000.0\\n')"
      ]
    },
    {
      "cell_type": "code",
      "execution_count": null,
      "id": "820f0aa2",
      "metadata": {
        "id": "820f0aa2"
      },
      "outputs": [],
      "source": [
        "test_simple_atm(['C 47668.21', 'D 43118', 'exit'],'Invalid command\\n93118.0\\n')"
      ]
    },
    {
      "cell_type": "code",
      "execution_count": null,
      "id": "88217548",
      "metadata": {
        "id": "88217548"
      },
      "outputs": [],
      "source": [
        "test_simple_atm(['W 12913.24', 'A 8947.18', 'W 10462', 'D 6503.69', 'W 100000', 'exit'],'Invalid command\\nInsufficient balance\\n33128.45\\n')"
      ]
    },
    {
      "cell_type": "code",
      "execution_count": null,
      "id": "dd725504",
      "metadata": {
        "id": "dd725504"
      },
      "outputs": [],
      "source": [
        "test_simple_atm(['W 0', 'D 0', 'exit'],'50000.0\\n')"
      ]
    },
    {
      "cell_type": "code",
      "execution_count": null,
      "id": "b13668e4",
      "metadata": {
        "id": "b13668e4"
      },
      "outputs": [],
      "source": [
        "test_simple_atm(['W 100000', 'exit'],'Insufficient balance\\n50000.0\\n')"
      ]
    }
  ],
  "metadata": {
    "kernelspec": {
      "display_name": "Python 3.8.8 ('base')",
      "language": "python",
      "name": "python3"
    },
    "language_info": {
      "codemirror_mode": {
        "name": "ipython",
        "version": 3
      },
      "file_extension": ".py",
      "mimetype": "text/x-python",
      "name": "python",
      "nbconvert_exporter": "python",
      "pygments_lexer": "ipython3",
      "version": "3.8.8"
    },
    "vscode": {
      "interpreter": {
        "hash": "03adaee776292f2263426464639388749bf78930e8b883d5f988c57ae7094739"
      }
    },
    "colab": {
      "provenance": [],
      "include_colab_link": true
    }
  },
  "nbformat": 4,
  "nbformat_minor": 5
}