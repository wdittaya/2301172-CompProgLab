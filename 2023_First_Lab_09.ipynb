{
  "cells": [
    {
      "cell_type": "markdown",
      "metadata": {
        "id": "view-in-github",
        "colab_type": "text"
      },
      "source": [
        "<a href=\"https://colab.research.google.com/github/wdittaya/2301172-CompProgLab/blob/main/2023_First_Lab_09.ipynb\" target=\"_parent\"><img src=\"https://colab.research.google.com/assets/colab-badge.svg\" alt=\"Open In Colab\"/></a>"
      ]
    },
    {
      "cell_type": "markdown",
      "metadata": {
        "id": "-LxRo5umMSo9"
      },
      "source": [
        "# Instructions\n",
        "\n",
        "1. Write everything after the tag `# YOUR CODE HERE`\n",
        "2. Delete the `raise NotImplementedError()` line when you start implementing your code. It will throw an error if you didn't implement anything (and, you will not got any score).\n",
        "3. Name your file with your student ID and lab number, e.g. `6431234523-lab-09.ipynb`\n",
        "4. If you want to run your function, do it in a separate cell. Do not run the function in the definition cell. **Note:** If you run the function in the definition cell, you will get an error with the hidden test case.\n",
        "\n",
        "**DO NOT CHANGE THE FUNCTION NAME!!!**"
      ]
    },
    {
      "cell_type": "markdown",
      "metadata": {
        "id": "f52dkdBWMSpE"
      },
      "source": [
        "# (5 pts.) Q-1: Remove duplicates\n",
        "\n",
        "Implement a function that takes a list and **prints** a list without duplicates. The order of items in the returned list should be the same as the original list."
      ]
    },
    {
      "cell_type": "markdown",
      "metadata": {
        "id": "IkFnZPa-MSpG"
      },
      "source": [
        "Example test cases:\n",
        "- texts in **bold** are input from the user\n",
        "- `⏎` indicates the cariage return symbol (i.e. the user pressed the enter key)\n",
        "\n",
        "\n",
        "Input: **1 2 2 3 4 4 5⏎**\\\n",
        "Output: [1, 2, 3, 4, 5]\n",
        "\n",
        "Input: **1 1 1 1 1 1 1⏎**\\\n",
        "Output: [1]\n",
        "\n",
        "Input: **10 9 1 9 3 8 7 1 2⏎**\\\n",
        "Output: [10, 9, 1, 3, 8, 7, 2]\n",
        "\n",
        "Input: **⏎**\\\n",
        "Output: []"
      ]
    },
    {
      "cell_type": "code",
      "execution_count": null,
      "metadata": {
        "id": "CGrTeB0gMSpI"
      },
      "outputs": [],
      "source": [
        "def filter_list():\n",
        "    # YOUR CODE HERE\n",
        "    raise NotImplementedError()"
      ]
    },
    {
      "cell_type": "code",
      "execution_count": null,
      "metadata": {
        "id": "_x9PCqBvMSpK"
      },
      "outputs": [],
      "source": [
        "from unittest.mock import patch\n",
        "from io import StringIO\n",
        "\n",
        "def test_filter_list(inputs, outputs):\n",
        "    with patch('builtins.input', side_effect=inputs), patch('sys.stdout', new_callable=StringIO) as mock_stdout:\n",
        "        filter_list()\n",
        "\n",
        "        expected_output = outputs.strip()\n",
        "        actual_output = mock_stdout.getvalue().strip()\n",
        "\n",
        "        assert expected_output == actual_output, 'Test Failed.\\nYour printed output: {}\\nExpected output: {}'.format(actual_output, expected_output)\n",
        "    print('Test Passed')"
      ]
    },
    {
      "cell_type": "code",
      "execution_count": null,
      "metadata": {
        "id": "OhhMHlxdMSpL"
      },
      "outputs": [],
      "source": [
        "test_filter_list(['1 2 2 3 4 4 5'], '[1, 2, 3, 4, 5]')"
      ]
    },
    {
      "cell_type": "code",
      "execution_count": null,
      "metadata": {
        "id": "kQnGZl-pMSpO"
      },
      "outputs": [],
      "source": [
        "test_filter_list(['1 1 1 1 1 1 1'], '[1]')"
      ]
    },
    {
      "cell_type": "code",
      "execution_count": null,
      "metadata": {
        "id": "ygu0yTx3MSpP"
      },
      "outputs": [],
      "source": [
        "test_filter_list(['10 9 1 9 3 8 7 1 2'], '[10, 9, 1, 3, 8, 7, 2]')"
      ]
    },
    {
      "cell_type": "code",
      "execution_count": null,
      "metadata": {
        "id": "ufCRBWVQMSpQ"
      },
      "outputs": [],
      "source": [
        "test_filter_list([''], '[]')"
      ]
    },
    {
      "cell_type": "markdown",
      "metadata": {
        "id": "6_HwZJNfMSpR"
      },
      "source": [
        "# (5 pts.) Q-2: List comprehension\n",
        "\n",
        "Implement a function that takes a positive integer `n` as input and print a list containing the squares of even numbers from `1` to `n`. Use list comprehension to solve this problem. Your answer should contain only one line of code.\n",
        "\n",
        "Although these test cases will not check the number of lines of code, the scoring script will check it. You will get partial credit if you use more than one line of code."
      ]
    },
    {
      "cell_type": "markdown",
      "metadata": {
        "id": "6p2yYlUSMSpS"
      },
      "source": [
        "Example test cases:\n",
        "\n",
        "Input: **10⏎**\\\n",
        "Output: [4, 16, 36, 64, 100]\n",
        "\n",
        "Input: **1⏎**\\\n",
        "Output: []\n",
        "\n",
        "Input: **3⏎**\\\n",
        "Output: [4]"
      ]
    },
    {
      "cell_type": "code",
      "execution_count": null,
      "metadata": {
        "id": "9_9RpZM6MSpU"
      },
      "outputs": [],
      "source": [
        "def get_square():\n",
        "    n = int(input('Input: '))\n",
        "    # Change the line below to print the list containing squares of even numbers\n",
        "    raise NotImplementedError()"
      ]
    },
    {
      "cell_type": "code",
      "execution_count": null,
      "metadata": {
        "id": "qxW5i1DcMSpU"
      },
      "outputs": [],
      "source": [
        "from unittest.mock import patch\n",
        "from io import StringIO\n",
        "\n",
        "def test_get_square(inputs, outputs):\n",
        "    with patch('builtins.input', side_effect=inputs), patch('sys.stdout', new_callable=StringIO) as mock_stdout:\n",
        "        get_square()\n",
        "\n",
        "        expected_output = outputs.strip()\n",
        "        actual_output = mock_stdout.getvalue().strip()\n",
        "\n",
        "        assert expected_output == actual_output, 'Test Failed.\\nYour printed output: {}\\nExpected output: {}'.format(actual_output, expected_output)\n",
        "    print('Test Passed')"
      ]
    },
    {
      "cell_type": "code",
      "execution_count": null,
      "metadata": {
        "id": "2M_ArJbUMSpW"
      },
      "outputs": [],
      "source": [
        "test_get_square(['10'], '[4, 16, 36, 64, 100]')"
      ]
    },
    {
      "cell_type": "code",
      "execution_count": null,
      "metadata": {
        "id": "PW1Np9b6MSpX"
      },
      "outputs": [],
      "source": [
        "test_get_square(['1'], '[]')"
      ]
    },
    {
      "cell_type": "code",
      "execution_count": null,
      "metadata": {
        "id": "VK0G05PuMSpX"
      },
      "outputs": [],
      "source": [
        "test_get_square(['3'], '[4]')"
      ]
    }
  ],
  "metadata": {
    "kernelspec": {
      "display_name": "compprog",
      "language": "python",
      "name": "python3"
    },
    "language_info": {
      "codemirror_mode": {
        "name": "ipython",
        "version": 3
      },
      "file_extension": ".py",
      "mimetype": "text/x-python",
      "name": "python",
      "nbconvert_exporter": "python",
      "pygments_lexer": "ipython3",
      "version": "3.10.4"
    },
    "colab": {
      "provenance": [],
      "include_colab_link": true
    }
  },
  "nbformat": 4,
  "nbformat_minor": 0
}