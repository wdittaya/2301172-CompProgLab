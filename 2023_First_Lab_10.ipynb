{
  "cells": [
    {
      "cell_type": "markdown",
      "metadata": {
        "id": "view-in-github",
        "colab_type": "text"
      },
      "source": [
        "<a href=\"https://colab.research.google.com/github/wdittaya/2301172-CompProgLab/blob/main/2023_First_Lab_10.ipynb\" target=\"_parent\"><img src=\"https://colab.research.google.com/assets/colab-badge.svg\" alt=\"Open In Colab\"/></a>"
      ]
    },
    {
      "cell_type": "markdown",
      "metadata": {
        "id": "-BW6YxI1TGvt"
      },
      "source": [
        "# Instructions\n",
        "\n",
        "1. Write everything after the tag `# YOUR CODE HERE`\n",
        "2. Delete the `raise NotImplementedError()` line when you start implementing your code. It will throw an error if you didn't implement anything (and, you will not got any score).\n",
        "3. Name your file with your student ID and lab number, e.g. `6431234523-lab-10.ipynb`\n",
        "4. If you want to run your function, do it in a separate cell. Do not run the function in the definition cell. **Note:** If you run the function in the definition cell, you will get an error with the hidden test case.\n",
        "\n",
        "**DO NOT CHANGE THE FUNCTION NAME!!!**"
      ]
    },
    {
      "cell_type": "markdown",
      "metadata": {
        "id": "tN-iPH1LTGv1"
      },
      "source": [
        "# (13 pts.) Q-1: Construct a dictionary"
      ]
    },
    {
      "cell_type": "markdown",
      "metadata": {
        "id": "yiDdRCMoTGv2"
      },
      "source": [
        "Write a function that construct a dictionary, `courses`, whose\n",
        "- keys are course ID\n",
        "- values are course name\n",
        "**Return** the dictionary.\n",
        "\n",
        "These are course IDs and names that should be in the dictionary\n",
        "\n",
        "| Course ID | Course name |\n",
        "|:---------:|:------------|\n",
        "| 2301107   | Calculus I  |\n",
        "| 2301108   | Calculus II |\n",
        "| 2302101   | General Chemistry I |\n",
        "| 2302102   | General Chemistry II |\n",
        "| 2302103   | General Chemistry Laboratory I|\n",
        "| 2303101   | General Biology I |\n",
        "| 2303102   | General Biology Laboratory I |\n",
        "| 2304151   | Essential Physics |\n",
        "| 2304197   | Physics Laboratory for Biologists |\n",
        "| 5503111   | English Communication for Science I |\n",
        "| 2305101   | General Biology II |\n",
        "| 2305102   | Genral Biology Laboratory II |\n",
        "| 5503112   | English Communication for Science II |\n"
      ]
    },
    {
      "cell_type": "code",
      "execution_count": null,
      "metadata": {
        "id": "Eztl8sSFTGv4"
      },
      "outputs": [],
      "source": [
        "def get_course_dict():\n",
        "    # YOUR CODE HERE\n",
        "    raise NotImplementedError"
      ]
    },
    {
      "cell_type": "code",
      "execution_count": null,
      "metadata": {
        "id": "9KLB3TshTGv7"
      },
      "outputs": [],
      "source": [
        "def test_course_dict(key, value):\n",
        "    course_dict = get_course_dict()\n",
        "    assert course_dict[key] == value, 'Test Failed.\\nYour return value: {}\\nExpected return value: {}'.format(course_dict[key], value)\n",
        "    print('Test Passed')"
      ]
    },
    {
      "cell_type": "code",
      "execution_count": null,
      "metadata": {
        "id": "roLK82ItTGv8"
      },
      "outputs": [],
      "source": [
        "test_course_dict('2301107', 'Calculus I')\n",
        "test_course_dict('2301108', 'Calculus II')\n",
        "test_course_dict('2302101', 'General Chemistry I')\n",
        "test_course_dict('2302102', 'General Chemistry II')\n",
        "test_course_dict('2302103', 'General Chemistry Laboratory I')\n",
        "test_course_dict('2303101', 'General Biology I')\n",
        "test_course_dict('2303102', 'General Biology Laboratory I')\n",
        "test_course_dict('2304151', 'Essential Physics')\n",
        "test_course_dict('2304197', 'Physics Laboratory for Biologists')\n",
        "test_course_dict('5503111', 'English Communication for Science I')\n",
        "test_course_dict('2305101', 'General Biology II')\n",
        "test_course_dict('2305102', 'General Biology Laboratory II')\n",
        "test_course_dict('5503112', 'English Communication for Science II')"
      ]
    },
    {
      "cell_type": "markdown",
      "metadata": {
        "id": "dK4Cc9v7TGwA"
      },
      "source": [
        "# (13 pts.) Q-2: Query a dictionary"
      ]
    },
    {
      "cell_type": "markdown",
      "metadata": {
        "id": "8sY8nAtfTGwB"
      },
      "source": [
        "Write a function that takes a course ID and **prints** the course name. If the course ID is not in the dictionary, **prints** an error message.\n",
        "- Call the `get_course_dict` function to get the course dict\n",
        "- Reads the input course ID\n",
        "- Find the course name in the course dict using the course ID. If the ID is not in the dict, prints an error."
      ]
    },
    {
      "cell_type": "markdown",
      "metadata": {
        "id": "uZMxzcOOTGwD"
      },
      "source": [
        "Example test cases:\n",
        "- texts in **bold** are input from the user\n",
        "- `⏎` indicates the cariage return symbol (i.e. the user pressed the enter key)\n",
        "\n",
        "Enter course ID: **2301107⏎**\\\n",
        "Calculus I\n",
        "\n",
        "Enter course ID: **2303101⏎**\\\n",
        "General Biology I\n",
        "\n",
        "Enter course ID: **2301117⏎**\\\n",
        "Course ID not found"
      ]
    },
    {
      "cell_type": "code",
      "execution_count": null,
      "metadata": {
        "id": "b5-FJjPeTGwF"
      },
      "outputs": [],
      "source": [
        "def query_course():\n",
        "    # YOUR CODE HERE\n",
        "    raise NotImplementedError"
      ]
    },
    {
      "cell_type": "code",
      "execution_count": null,
      "metadata": {
        "id": "YvY1jwy1TGwH"
      },
      "outputs": [],
      "source": [
        "from unittest.mock import patch\n",
        "from io import StringIO\n",
        "\n",
        "def test_query_course(inputs, outputs):\n",
        "    with patch('builtins.input', side_effect=inputs), patch('sys.stdout', new_callable=StringIO) as mock_stdout:\n",
        "        query_course()\n",
        "\n",
        "        expected_output = outputs.strip()\n",
        "        actual_output = mock_stdout.getvalue().strip()\n",
        "\n",
        "        assert expected_output == actual_output, 'Test Failed.\\nYour printed output: {}\\nExpected output: {}'.format(actual_output, expected_output)\n",
        "    print('Test Passed')"
      ]
    },
    {
      "cell_type": "code",
      "execution_count": null,
      "metadata": {
        "id": "ZLvb0uJDTGwJ"
      },
      "outputs": [],
      "source": [
        "test_query_course(['2301107'], 'Calculus I')\n",
        "test_query_course(['2301117'], 'Course ID not found')\n",
        "test_query_course(['2302101'], 'General Chemistry I')\n",
        "test_query_course(['2302102'], 'General Chemistry II')\n",
        "test_query_course(['2302103'], 'General Chemistry Laboratory I')\n",
        "test_query_course(['2303107'], 'Course ID not found')\n",
        "test_query_course(['2303102'], 'General Biology Laboratory I')\n",
        "test_query_course(['2304104'], 'Course ID not found')\n",
        "test_query_course(['2304197'], 'Physics Laboratory for Biologists')\n",
        "test_query_course(['5503111'], 'English Communication for Science I')\n",
        "test_query_course(['2305101'], 'General Biology II')\n",
        "test_query_course(['2305102'], 'General Biology Laboratory II')\n",
        "test_query_course(['5503112'], 'English Communication for Science II')"
      ]
    },
    {
      "cell_type": "markdown",
      "metadata": {
        "id": "Y7X5XiEgTGwM"
      },
      "source": [
        "# (24 pts.) Q-3: Construct a fee dictionary"
      ]
    },
    {
      "cell_type": "markdown",
      "metadata": {
        "id": "8OGacyfnTGwN"
      },
      "source": [
        "The following list comprehension constructs a list of tuples that contains the student status, level, and semester. The student status can be either `part-time` or `full-time`. The level can be either `bachelor` or `grad`. The semester can be either `1`, `2`, or `summer`."
      ]
    },
    {
      "cell_type": "code",
      "execution_count": null,
      "metadata": {
        "id": "Bvffln2zTGwO"
      },
      "outputs": [],
      "source": [
        "def get_all_status_list():\n",
        "    status_list = [(status, level, semester)\n",
        "                    for status in ['part-time', 'full-time']\n",
        "                        for level in ['bachelor', 'grad']\n",
        "                            for semester in ['1', '2', 'summer']]\n",
        "    return status_list"
      ]
    },
    {
      "cell_type": "markdown",
      "metadata": {
        "id": "xmpDSlZaTGwP"
      },
      "source": [
        "Construct a nested dictionary that stores the tuition fee for Chula student. Your function should **return** the dictionary.\n",
        "\n",
        "The first level key is the group of the student. There are two groups of students, `I` and `II`. The second level key is the tuple of student status.\n",
        "\n",
        "The tuition fee based on these keys are\n",
        "\n",
        "Group I\n",
        "\n",
        "| Status  | Level | Sem 1 or Sem 2 | Summer |\n",
        "|-----------|----------|:------------:|:------:|\n",
        "| part-time | bachelor | 10500 | 2625 |\n",
        "| part-time | grad | 15500 | 3875 |\n",
        "| full-time | bachelor | 21000 | 5250 |\n",
        "| full-time | grad | 31000 | 7750 |\n",
        "\n",
        "Group II\n",
        "\n",
        "| Status  | Level | Sem 1 or Sem 2 | Summer |\n",
        "|-----------|----------|:------------:|:------:|\n",
        "| part-time | bachelor | 8500 |  2625 |\n",
        "| part-time | grad | 11500 | 3875\n",
        "| full-time | bachelor | 17000 | 5250 |\n",
        "| full-time | grad | 23000 | 7750 |\n"
      ]
    },
    {
      "cell_type": "code",
      "execution_count": null,
      "metadata": {
        "id": "LUNwtMTcTGwQ"
      },
      "outputs": [],
      "source": [
        "def get_fee_dict():\n",
        "    # YOUR CODE HERE\n",
        "    raise NotImplementedError"
      ]
    },
    {
      "cell_type": "code",
      "execution_count": null,
      "metadata": {
        "id": "sJ_rh9B2TGwR"
      },
      "outputs": [],
      "source": [
        "def test_get_fee_dict(keys, value):\n",
        "    fee_dict = get_fee_dict()\n",
        "    key1, key2 = keys\n",
        "    ans = fee_dict[key1][key2]\n",
        "    assert ans == value, 'Test Failed.\\nYour return value: {}\\nExpected return value: {}'.format(ans, value)\n",
        "    print('Test Passed')"
      ]
    },
    {
      "cell_type": "code",
      "execution_count": null,
      "metadata": {
        "id": "bQTQ9IXgTGwS"
      },
      "outputs": [],
      "source": [
        "test_get_fee_dict(['I', ('part-time', 'bachelor', '1')], 10500)\n",
        "test_get_fee_dict(['I', ('part-time', 'bachelor', '2')], 10500)\n",
        "test_get_fee_dict(['I', ('part-time', 'bachelor', 'summer')], 2625)\n",
        "test_get_fee_dict(['I', ('part-time', 'grad', '1')], 15500)\n",
        "test_get_fee_dict(['I', ('part-time', 'grad', '2')], 15500)\n",
        "test_get_fee_dict(['I', ('part-time', 'grad', 'summer')], 3875)\n",
        "test_get_fee_dict(['I', ('full-time', 'bachelor', '1')], 21000)\n",
        "test_get_fee_dict(['I', ('full-time', 'bachelor', '2')], 21000)\n",
        "test_get_fee_dict(['I', ('full-time', 'bachelor', 'summer')], 5250)\n",
        "test_get_fee_dict(['I', ('full-time', 'grad', '1')], 31000)\n",
        "test_get_fee_dict(['I', ('full-time', 'grad', '2')], 31000)\n",
        "test_get_fee_dict(['I', ('full-time', 'grad', 'summer')], 7750)\n",
        "test_get_fee_dict(['II', ('part-time', 'bachelor', '1')], 8500)\n",
        "test_get_fee_dict(['II', ('part-time', 'bachelor', '2')], 8500)\n",
        "test_get_fee_dict(['II', ('part-time', 'bachelor', 'summer')], 2625)\n",
        "test_get_fee_dict(['II', ('part-time', 'grad', '1')], 11500)\n",
        "test_get_fee_dict(['II', ('part-time', 'grad', '2')], 11500)\n",
        "test_get_fee_dict(['II', ('part-time', 'grad', 'summer')], 3875)\n",
        "test_get_fee_dict(['II', ('full-time', 'bachelor', '1')], 17000)\n",
        "test_get_fee_dict(['II', ('full-time', 'bachelor', '2')], 17000)\n",
        "test_get_fee_dict(['II', ('full-time', 'bachelor', 'summer')], 5250)\n",
        "test_get_fee_dict(['II', ('full-time', 'grad', '1')], 23000)\n",
        "test_get_fee_dict(['II', ('full-time', 'grad', '2')], 23000)\n",
        "test_get_fee_dict(['II', ('full-time', 'grad', 'summer')], 7750)"
      ]
    }
  ],
  "metadata": {
    "kernelspec": {
      "display_name": "Python 3",
      "language": "python",
      "name": "python3"
    },
    "language_info": {
      "codemirror_mode": {
        "name": "ipython",
        "version": 3
      },
      "file_extension": ".py",
      "mimetype": "text/x-python",
      "name": "python",
      "nbconvert_exporter": "python",
      "pygments_lexer": "ipython3",
      "version": "3.10.4"
    },
    "vscode": {
      "interpreter": {
        "hash": "2237c226f13bb83c7a8e8fb332a785d54cc3cc3adaf4a8b1a6982f28f305e0c8"
      }
    },
    "colab": {
      "provenance": [],
      "include_colab_link": true
    }
  },
  "nbformat": 4,
  "nbformat_minor": 0
}