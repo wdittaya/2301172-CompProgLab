{
  "cells": [
    {
      "cell_type": "markdown",
      "metadata": {
        "id": "view-in-github",
        "colab_type": "text"
      },
      "source": [
        "<a href=\"https://colab.research.google.com/github/wdittaya/2301172-CompProgLab/blob/main/2023_First_Lab_02.ipynb\" target=\"_parent\"><img src=\"https://colab.research.google.com/assets/colab-badge.svg\" alt=\"Open In Colab\"/></a>"
      ]
    },
    {
      "cell_type": "markdown",
      "metadata": {
        "id": "vVuhMvAIMIpP"
      },
      "source": [
        "# Instructions\n",
        "\n",
        "1. Write everything after the tag `# YOUR CODE HERE`\n",
        "2. Delete the `raise NotImplementedError()` line when you start implementing your code. It will throw an error if you didn't implement anything (and, you will not got any score).\n",
        "3. Name your file with your student ID and lab number, e.g. `6431234523-lab-02.ipynb`\n",
        "4. If you want to run your function, do it in a separate cell. Do not run the function in the definition cell. **Note:** If you run the function in the definition cell, you will get an error with the hidden test case.\n",
        "\n",
        "**DO NOT CHANGE THE FUNCTION NAME!!!**"
      ]
    },
    {
      "cell_type": "markdown",
      "metadata": {
        "id": "qWZEt6FpMIpS"
      },
      "source": [
        "# Lab-02 Outline\n",
        "\n",
        "The objectives of this lab is to practice with expressions and variables. You will be asked to implement a function that calculates the area of shapes."
      ]
    },
    {
      "cell_type": "markdown",
      "metadata": {
        "id": "RPWJpoQ_MIpT"
      },
      "source": [
        "# (5 pts.) Q-1\n",
        "\n",
        "Implement a function that calculates the area of a circle. The function reads the radius of the circle as an input and prints the area of the circle. The formula for the area of a circle is:\n",
        "\n",
        "$\\pi * r^2$\n",
        "\n",
        "where $\\pi$ is the constant 3.14 and $r$ is the radius of the circle.\n",
        "\n",
        "Example test cases\n",
        "- texts in **bold** are input from the user\n",
        "- `⏎` indicates the cariage return symbol (i.e. the user pressed the enter key)\n",
        "\n",
        "radius: **2⏎**\\\n",
        "12.56\n",
        "\n",
        "radius: **1.5⏎**\\\n",
        "7.065\n",
        "\n",
        "radius: **0⏎**\\\n",
        "0.0\n"
      ]
    },
    {
      "cell_type": "code",
      "execution_count": null,
      "metadata": {
        "id": "U0ufKjOiMIpU"
      },
      "outputs": [],
      "source": [
        "def circle_area():\n",
        "    # YOUR CODE HERE\n",
        "    raise NotImplementedError()"
      ]
    },
    {
      "cell_type": "code",
      "execution_count": null,
      "metadata": {
        "id": "dcpBo4RHMIpV"
      },
      "outputs": [],
      "source": [
        "from unittest.mock import patch\n",
        "from io import StringIO\n",
        "\n",
        "def test_circle_area(inputs, outputs):\n",
        "    with patch('builtins.input', side_effect=inputs), patch('sys.stdout', new_callable=StringIO) as mock_stdout:\n",
        "        circle_area()\n",
        "\n",
        "        your_outputs = float(mock_stdout.getvalue())\n",
        "        outputs = float(outputs)\n",
        "\n",
        "        assert round(your_outputs,3) == round(outputs,3), 'Test Failed.\\nYour area: {}\\nExpected area: {}'.format(your_outputs, outputs)\n",
        "    print('Test Passed')"
      ]
    },
    {
      "cell_type": "code",
      "execution_count": null,
      "metadata": {
        "id": "Sa-M9YtpMIpW"
      },
      "outputs": [],
      "source": [
        "test_circle_area(['2'], '12.56')"
      ]
    },
    {
      "cell_type": "code",
      "execution_count": null,
      "metadata": {
        "id": "Y8zYO17wMIpX"
      },
      "outputs": [],
      "source": [
        "test_circle_area(['1.5'], '7.065')"
      ]
    },
    {
      "cell_type": "code",
      "execution_count": null,
      "metadata": {
        "id": "fgZzPAMtMIpX"
      },
      "outputs": [],
      "source": [
        "test_circle_area(['0'], '0.0')"
      ]
    },
    {
      "cell_type": "markdown",
      "metadata": {
        "id": "c68p0-2RMIpY"
      },
      "source": [
        "# (5 pts.) Q-2\n",
        "\n",
        "Implement a function that calculates the area of a rectangle. The function reads the width and height of the rectangle as inputs and prints the area of the rectangle. The formula for the area of a rectangle is:\n",
        "\n",
        "$width * height$\n",
        "\n",
        "Example test cases\n",
        "- texts in **bold** are input from the user\n",
        "- `⏎` indicates the cariage return symbol (i.e. the user pressed the enter key)\n",
        "\n",
        "width: **2⏎**\\\n",
        "height: **3⏎**\\\n",
        "6.0\n",
        "\n",
        "width: **1.5⏎**\\\n",
        "height: **2.5⏎**\\\n",
        "3.75\n",
        "\n",
        "width: **0⏎**\\\n",
        "height: **0⏎**\\\n",
        "0.0"
      ]
    },
    {
      "cell_type": "code",
      "execution_count": null,
      "metadata": {
        "id": "x989aXJiMIpY"
      },
      "outputs": [],
      "source": [
        "def rectangle_area():\n",
        "    # YOUR CODE HERE\n",
        "    raise NotImplementedError()"
      ]
    },
    {
      "cell_type": "code",
      "execution_count": null,
      "metadata": {
        "id": "FPQ85AnCMIpZ"
      },
      "outputs": [],
      "source": [
        "from unittest.mock import patch\n",
        "from io import StringIO\n",
        "\n",
        "def test_rectangle_area(inputs, outputs):\n",
        "    with patch('builtins.input', side_effect=inputs), patch('sys.stdout', new_callable=StringIO) as mock_stdout:\n",
        "        rectangle_area()\n",
        "\n",
        "        your_outputs = float(mock_stdout.getvalue())\n",
        "        outputs = float(outputs)\n",
        "\n",
        "        assert round(your_outputs,3) == round(outputs,3), 'Test Failed.\\nYour area: {}\\nExpected area: {}'.format(your_outputs, outputs)\n",
        "    print('Test Passed')"
      ]
    },
    {
      "cell_type": "code",
      "execution_count": null,
      "metadata": {
        "id": "3XJArkV1MIpa"
      },
      "outputs": [],
      "source": [
        "test_rectangle_area(['2', '3'], '6.0')"
      ]
    },
    {
      "cell_type": "code",
      "execution_count": null,
      "metadata": {
        "id": "_r0RDFDpMIpa"
      },
      "outputs": [],
      "source": [
        "test_rectangle_area(['1.5', '2.5'], '3.75')"
      ]
    },
    {
      "cell_type": "code",
      "execution_count": null,
      "metadata": {
        "id": "nLj6ApL5MIpb"
      },
      "outputs": [],
      "source": [
        "test_rectangle_area(['0', '0'], '0.0')"
      ]
    },
    {
      "cell_type": "markdown",
      "metadata": {
        "id": "yQ8-nA4VMIpb"
      },
      "source": [
        "# (5 pts.) Q-3\n",
        "\n",
        "Implement a function that calculates the area of a trapezoid. The function reads the height, and the length of the parallel sides of the trapezoid as inputs and prints the area of the trapezoid. The formula for the area of a trapezoid is:\n",
        "\n",
        "$\\frac{1}{2} * (a + b) * h$\n",
        "\n",
        "where $a$ and $b$ are the lengths of the parallel sides and $h$ is the height of the trapezoid.\n",
        "\n",
        "Example test cases\n",
        "- texts in **bold** are input from the user\n",
        "- `⏎` indicates the cariage return symbol (i.e. the user pressed the enter key)\n",
        "\n",
        "height: **3⏎**\\\n",
        "length of the parallel side 1: **4⏎**\\\n",
        "length of the parallel side 2: **5⏎**\\\n",
        "13.5\n",
        "\n",
        "height: **1.5⏎**\\\n",
        "length of the parallel side 1: **2.5⏎**\\\n",
        "length of the parallel side 2: **3.5⏎**\\\n",
        "4.5\n",
        "\n",
        "height: **0⏎**\\\n",
        "length of the parallel side 1: **0⏎**\\\n",
        "length of the parallel side 2: **0⏎**\\\n",
        "0.0"
      ]
    },
    {
      "cell_type": "code",
      "execution_count": null,
      "metadata": {
        "id": "47iP647rMIpc"
      },
      "outputs": [],
      "source": [
        "def trapezoid_area():\n",
        "    # YOUR CODE HERE\n",
        "    raise NotImplementedError()"
      ]
    },
    {
      "cell_type": "code",
      "execution_count": null,
      "metadata": {
        "id": "rD_TiX12MIpc"
      },
      "outputs": [],
      "source": [
        "from unittest.mock import patch\n",
        "from io import StringIO\n",
        "\n",
        "def test_trapezoid_area(inputs, outputs):\n",
        "    with patch('builtins.input', side_effect=inputs), patch('sys.stdout', new_callable=StringIO) as mock_stdout:\n",
        "        trapezoid_area()\n",
        "\n",
        "        your_outputs = float(mock_stdout.getvalue())\n",
        "        outputs = float(outputs)\n",
        "\n",
        "        assert round(your_outputs,3) == round(outputs,3), 'Test Failed.\\nYour area: {}\\nExpected area: {}'.format(your_outputs, outputs)\n",
        "    print('Test Passed')"
      ]
    },
    {
      "cell_type": "code",
      "execution_count": null,
      "metadata": {
        "id": "pZs8787vMIpd"
      },
      "outputs": [],
      "source": [
        "test_trapezoid_area(['3', '4', '5'], '13.5')"
      ]
    },
    {
      "cell_type": "code",
      "execution_count": null,
      "metadata": {
        "id": "8lC0IpUvMIpe"
      },
      "outputs": [],
      "source": [
        "test_trapezoid_area(['1.5', '2.5', '3.5'], '4.5')"
      ]
    },
    {
      "cell_type": "code",
      "execution_count": null,
      "metadata": {
        "id": "XfDI8kTWMIpe"
      },
      "outputs": [],
      "source": [
        "test_trapezoid_area(['0', '0', '0'], '0.0')"
      ]
    }
  ],
  "metadata": {
    "kernelspec": {
      "display_name": "compprog",
      "language": "python",
      "name": "python3"
    },
    "language_info": {
      "codemirror_mode": {
        "name": "ipython",
        "version": 3
      },
      "file_extension": ".py",
      "mimetype": "text/x-python",
      "name": "python",
      "nbconvert_exporter": "python",
      "pygments_lexer": "ipython3",
      "version": "3.10.4"
    },
    "orig_nbformat": 4,
    "colab": {
      "provenance": [],
      "include_colab_link": true
    }
  },
  "nbformat": 4,
  "nbformat_minor": 0
}