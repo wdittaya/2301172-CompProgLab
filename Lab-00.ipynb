{
 "cells": [
  {
   "cell_type": "markdown",
   "metadata": {
    "id": "XGSthh1mTBdw"
   },
   "source": [
    "# 1. Introduction"
   ]
  },
  {
   "cell_type": "markdown",
   "metadata": {
    "id": "hqBEb7z-Veg_"
   },
   "source": [
    "## What is a program?"
   ]
  },
  {
   "cell_type": "markdown",
   "metadata": {
    "id": "iO8Ofia5Viy9"
   },
   "source": [
    "- A **sequence** of instructions\n",
    "- A step-by-step guide to **compute** the result"
   ]
  },
  {
   "cell_type": "markdown",
   "metadata": {
    "id": "gOeYUqb2WRDe"
   },
   "source": [
    "## What is \"programming\"?"
   ]
  },
  {
   "cell_type": "markdown",
   "metadata": {
    "id": "ODvuGdbrWUY3"
   },
   "source": [
    "Ans: The way we tell a computer to work.\n",
    "\n",
    "A computer has a minimal instruction set. Therefore, we need to write a specific sequence of these instructions to make a computer do what we want."
   ]
  },
  {
   "cell_type": "markdown",
   "metadata": {
    "id": "LYMH5zbzXK1v"
   },
   "source": [
    "## What can a computer do?\n",
    "\n",
    "Basic instructions\n",
    "\n",
    "- Input\n",
    "  - Read from the keyboard, a file, the network, a device.\n",
    "- Output\n",
    "  - Display data on the screen, save it in a file, print it out, send it over the network, etc.\n",
    "- Math\n",
    "  - Perform basic mathematical operation such as addition, multiplication.\n",
    "- Conditional execution\n",
    "  - Check for specific conditions and run the appropriate code.\n",
    "- Repetition\n",
    "  - Do something repeatedly until it breaks a certain condition."
   ]
  },
  {
   "cell_type": "markdown",
   "metadata": {
    "id": "C61g43UwbHZb"
   },
   "source": [
    "# 2. Our first program"
   ]
  },
  {
   "cell_type": "markdown",
   "metadata": {
    "id": "fOIEgacieIqJ"
   },
   "source": [
    "### What is a \"Notebook\"?"
   ]
  },
  {
   "cell_type": "markdown",
   "metadata": {
    "id": "Mp3kU9UaeMuO"
   },
   "source": [
    "A notebook here is a mix of interactive code blocks and text blocks.\n",
    "\n",
    "We can write, run the codes, similar to the interactive shell, in a code block. But, we have a text block to write a rich comment, explanation on our code, putting figures/links.\n",
    "\n",
    "It looks like a logbook for scientific experiments where we take notes on our experiment setting and write the result. With the notebook, we can take notes, *write, and perform* the experiment in the same place."
   ]
  },
  {
   "cell_type": "markdown",
   "metadata": {
    "id": "wPdXBe3SfU_O"
   },
   "source": [
    "Google Colab is an online version of a notebook provided by Google. All of the codes are run on Google's servers.\n",
    "\n",
    "You can install a notebook server on your machine. One popular version of notebooks is the Jupyter notebook."
   ]
  },
  {
   "cell_type": "markdown",
   "metadata": {
    "id": "4-614fVCh44Z"
   },
   "source": [
    "### Python version\n",
    "\n",
    "We will use **Python 3**.\n",
    "\n",
    "There are also minor versions in Python 3 e.g., Python 3.8, Python 3.10, etc. There are some new features in the newer version. However, we will use only the basic things in this course. So, any version of Python 3 is fine."
   ]
  },
  {
   "cell_type": "markdown",
   "metadata": {
    "id": "NjLAiD9xiyJy"
   },
   "source": [
    "# 3. Simple calculation"
   ]
  },
  {
   "cell_type": "markdown",
   "metadata": {
    "id": "U849Jx7ejQYG"
   },
   "source": [
    "## Arithmetic operators\n",
    "- Addition, `+`\n",
    "- Subtraction, `-`\n",
    "- Multiplication, `*`\n",
    "- Division, `/`"
   ]
  },
  {
   "cell_type": "markdown",
   "metadata": {
    "id": "eZiR5U00nius"
   },
   "source": [
    "### Exercises"
   ]
  },
  {
   "cell_type": "markdown",
   "metadata": {
    "id": "3viQ39-xnZWW"
   },
   "source": [
    "Execute the following expressions in your machine. Can you summarize the behavior of these operators?\n",
    "\n"
   ]
  },
  {
   "cell_type": "code",
   "execution_count": null,
   "metadata": {
    "id": "PzM0w0Tsjdi6"
   },
   "outputs": [],
   "source": [
    "10+2"
   ]
  },
  {
   "cell_type": "code",
   "execution_count": null,
   "metadata": {
    "id": "n8WTmLbKj1gl"
   },
   "outputs": [],
   "source": [
    "10-2"
   ]
  },
  {
   "cell_type": "code",
   "execution_count": null,
   "metadata": {
    "id": "aSvNObFWj3u5"
   },
   "outputs": [],
   "source": [
    "10*2"
   ]
  },
  {
   "cell_type": "code",
   "execution_count": null,
   "metadata": {
    "id": "tBlcwiNEj6OO"
   },
   "outputs": [],
   "source": [
    "10/2"
   ]
  },
  {
   "cell_type": "markdown",
   "metadata": {
    "id": "rnfTNH1VkBpk"
   },
   "source": [
    "- Exponentiation, `**`"
   ]
  },
  {
   "cell_type": "code",
   "execution_count": null,
   "metadata": {
    "id": "Pe2agphmkEsK"
   },
   "outputs": [],
   "source": [
    "6 ** 2"
   ]
  },
  {
   "cell_type": "markdown",
   "metadata": {
    "id": "1LOIyY6AkYuK"
   },
   "source": [
    "In some languages, `^` is used for exponentiation, but this operator is a bitwise XOR in Python."
   ]
  },
  {
   "cell_type": "code",
   "execution_count": null,
   "metadata": {
    "id": "NL3MRDHAkZ53"
   },
   "outputs": [],
   "source": [
    "6 ^ 2"
   ]
  },
  {
   "cell_type": "markdown",
   "metadata": {
    "id": "ZoU6NQ2unTGu"
   },
   "source": [
    "### Exercises"
   ]
  },
  {
   "cell_type": "markdown",
   "metadata": {
    "id": "3FTX3VnF8gh0"
   },
   "source": [
    "Execute the following expressions in your machine. Can you summarize the behavior of these operators?"
   ]
  },
  {
   "cell_type": "markdown",
   "metadata": {},
   "source": [
    "$$2^{3^2}$$"
   ]
  },
  {
   "cell_type": "code",
   "execution_count": null,
   "metadata": {
    "id": "6UxJ3JQJmFh-"
   },
   "outputs": [],
   "source": [
    "2**3**2"
   ]
  },
  {
   "cell_type": "code",
   "execution_count": null,
   "metadata": {
    "id": "V1WjTCGe8my4"
   },
   "outputs": [],
   "source": [
    "2/5"
   ]
  },
  {
   "cell_type": "code",
   "execution_count": null,
   "metadata": {
    "id": "cqy13yBp81xo"
   },
   "outputs": [],
   "source": [
    "2//5"
   ]
  },
  {
   "cell_type": "code",
   "execution_count": null,
   "metadata": {
    "id": "M8f6Np_682v0"
   },
   "outputs": [],
   "source": [
    "12/5"
   ]
  },
  {
   "cell_type": "code",
   "execution_count": null,
   "metadata": {
    "id": "3Ubp7dhG84RS"
   },
   "outputs": [],
   "source": [
    "12//5"
   ]
  },
  {
   "cell_type": "markdown",
   "metadata": {
    "id": "CtSRpBKp8-7o"
   },
   "source": [
    "## Basic data types"
   ]
  },
  {
   "cell_type": "markdown",
   "metadata": {
    "id": "GBwrsf_z9G6O"
   },
   "source": [
    "A computer stores everything using binary values, representing ON/OFF logic.\n",
    "\n",
    "A value is our data. However, we have several types of values. Basic types are text and numbers. We can do the math on numbers, but we can't do that on the text."
   ]
  },
  {
   "cell_type": "markdown",
   "metadata": {
    "id": "3IAPHD-R-gIT"
   },
   "source": [
    "### Exercises"
   ]
  },
  {
   "cell_type": "markdown",
   "metadata": {
    "id": "sV-7kJoV-kDi"
   },
   "source": [
    "Execute the following expressions in your machine. Can you summarize the behavior of these operators?"
   ]
  },
  {
   "cell_type": "code",
   "execution_count": null,
   "metadata": {
    "id": "v2aKCeOC-Y7S"
   },
   "outputs": [],
   "source": [
    "'2'+'2'"
   ]
  },
  {
   "cell_type": "code",
   "execution_count": null,
   "metadata": {
    "id": "i4YquoNc-cTH"
   },
   "outputs": [],
   "source": [
    "2+2"
   ]
  },
  {
   "cell_type": "markdown",
   "metadata": {
    "id": "J0Bt_gu_-qXn"
   },
   "source": [
    "### Numbers\n",
    "\n",
    "We have 2 basic number types in Python, integers and floating point (for decimals)."
   ]
  },
  {
   "cell_type": "code",
   "execution_count": null,
   "metadata": {
    "id": "AxNWwvWzHCRQ"
   },
   "outputs": [],
   "source": [
    "20"
   ]
  },
  {
   "cell_type": "code",
   "execution_count": null,
   "metadata": {
    "id": "7lb6-cHxHKG6"
   },
   "outputs": [],
   "source": [
    "20.0"
   ]
  },
  {
   "cell_type": "code",
   "execution_count": null,
   "metadata": {
    "id": "-pK456WhHL91"
   },
   "outputs": [],
   "source": [
    "2e5"
   ]
  },
  {
   "cell_type": "markdown",
   "metadata": {
    "id": "lO93YfeQHCmV"
   },
   "source": [
    "### Text\n",
    "\n",
    "There is only one text type in Python, string. We don't have a character type as in C or Java."
   ]
  },
  {
   "cell_type": "code",
   "execution_count": null,
   "metadata": {
    "id": "Bruf_9fKLuEp"
   },
   "outputs": [],
   "source": [
    "'This is a one line string'"
   ]
  },
  {
   "cell_type": "code",
   "execution_count": null,
   "metadata": {
    "id": "Ab1SoBzsL06w"
   },
   "outputs": [],
   "source": [
    "\"This too is a one line string\""
   ]
  },
  {
   "cell_type": "code",
   "execution_count": null,
   "metadata": {
    "id": "M6PysGdILxi7"
   },
   "outputs": [],
   "source": [
    "''' This is a multiline string\n",
    "newline\n",
    "'''\n",
    "\n",
    "\"\"\" This too is a multiline string\n",
    "newline\"\"\""
   ]
  },
  {
   "cell_type": "markdown",
   "metadata": {
    "id": "oWw3tI5JL7-F"
   },
   "source": [
    "#### Exercises\n",
    "- If we want a string with a single quote inside, how could we do that?\n",
    "- If we want a string with a double quote inside, how could we do that?\n",
    "- If we need both a single quote and a double quote inside a string, how should we do that?"
   ]
  },
  {
   "cell_type": "code",
   "execution_count": null,
   "metadata": {
    "id": "-q3Nq3ZNL7Mx"
   },
   "outputs": [],
   "source": []
  },
  {
   "cell_type": "markdown",
   "metadata": {
    "id": "ZsrE8QOm_uJY"
   },
   "source": [
    "### Find the type of value\n",
    "\n",
    "We can call the `type(...)` function to find the type of value. To call a function, we write the function name and put all the things we want to send to the function inside the parenthesis."
   ]
  },
  {
   "cell_type": "code",
   "execution_count": null,
   "metadata": {
    "id": "McC6RXbiAVZI"
   },
   "outputs": [],
   "source": [
    "type(2)"
   ]
  },
  {
   "cell_type": "markdown",
   "metadata": {
    "id": "0Ll9JdwyAauT"
   },
   "source": [
    "The return value from the function is a class with the class name. We can think of a class as a category. The class name, in this case, is the type of our data."
   ]
  },
  {
   "cell_type": "markdown",
   "metadata": {
    "id": "xp9YpT7IAJ-f"
   },
   "source": [
    "### Exercises"
   ]
  },
  {
   "cell_type": "markdown",
   "metadata": {
    "id": "qaX3g6QmAPh0"
   },
   "source": [
    "What are the types of these numerals?\n",
    "- 1,000\n",
    "- 1000\n",
    "- 1000.0\n",
    "- '1000'\n",
    "- \"1000\"\n",
    "- 1000.\n"
   ]
  },
  {
   "cell_type": "code",
   "execution_count": null,
   "metadata": {
    "id": "by-6vve2Cx6z"
   },
   "outputs": [],
   "source": [
    "type(1,000)"
   ]
  },
  {
   "cell_type": "code",
   "execution_count": null,
   "metadata": {
    "id": "pyunk5BtqZKu"
   },
   "outputs": [],
   "source": [
    "type('1,000')"
   ]
  },
  {
   "cell_type": "code",
   "execution_count": null,
   "metadata": {},
   "outputs": [],
   "source": [
    "type((1,000))"
   ]
  },
  {
   "cell_type": "code",
   "execution_count": null,
   "metadata": {},
   "outputs": [],
   "source": [
    "type(1000.0)"
   ]
  },
  {
   "cell_type": "code",
   "execution_count": null,
   "metadata": {},
   "outputs": [],
   "source": [
    "type(1000)"
   ]
  },
  {
   "cell_type": "markdown",
   "metadata": {
    "id": "5aZtmszzCyY8"
   },
   "source": [
    "# 4. Variables"
   ]
  },
  {
   "cell_type": "markdown",
   "metadata": {
    "id": "h502CHDKDXuK"
   },
   "source": [
    "## Memory\n",
    "\n",
    "When we do the math, we have\n",
    "- Operators\n",
    "- Operands\n",
    "\n",
    "An operator is roughly equivalent to an instruction in a computer. However, we need to supply operands or values to the instruction. Computer stores these values inside a memory, usually RAM.\n",
    "\n",
    "Memory is like a box that can store a value. However, one box can store only one value. If we have several values, we need several boxes.\n",
    "\n",
    "Each box has its *address* like a mailbox with a postal address. These addresses have long digits, which is hard for a human to remember. Therefore, we label a box with a name. We call the box with its name, a **variable**.\n"
   ]
  },
  {
   "cell_type": "markdown",
   "metadata": {
    "id": "hE9Mxv5dFUW8"
   },
   "source": [
    "## Assignment statements\n",
    "\n",
    "We can put a value into a box (in the memory) and label the box with a name. We call this process, an **assignment statement**. In other words, we create a new variable and gives it a value."
   ]
  },
  {
   "cell_type": "code",
   "execution_count": null,
   "metadata": {
    "id": "aMdGLvmpF6ht"
   },
   "outputs": [],
   "source": [
    "message = 'And now for something completely different'\n",
    "n = 17\n",
    "pi = 3.141592653589793"
   ]
  },
  {
   "cell_type": "code",
   "execution_count": null,
   "metadata": {
    "id": "b3lYX6RSL3TF"
   },
   "outputs": [],
   "source": [
    "type(n)"
   ]
  },
  {
   "cell_type": "code",
   "execution_count": null,
   "metadata": {
    "id": "ttwRe273L7pt"
   },
   "outputs": [],
   "source": [
    "n = 2.5"
   ]
  },
  {
   "cell_type": "code",
   "execution_count": null,
   "metadata": {
    "id": "TWABTcy-L91w"
   },
   "outputs": [],
   "source": [
    "type(n)"
   ]
  },
  {
   "cell_type": "markdown",
   "metadata": {
    "id": "bmXcPDGuGFqs"
   },
   "source": [
    "In Python, we assign\n",
    "- the variable name on the left-hand side of `=`\n",
    "with\n",
    "- the value on the right-hand side of `=`"
   ]
  },
  {
   "cell_type": "markdown",
   "metadata": {
    "id": "CF3Iovn8GuzW"
   },
   "source": [
    "## Naming a variable\n",
    "\n",
    "Python 3 supports Unicode, which means we can name a variable in any language!\n",
    "\n",
    "A variable name is a sequence of alphanumeric characters in any language. Symbols, except the underscore, `_`, are not allowed in a variable name. A variable name must start with an alphabet or an underscore, `_`. Numbers are allowed only after the first character of the name.\n",
    "\n",
    "Some words are reserved for a special purpose. We cannot use these **keywords** as a variable name.\n",
    "\n",
    "### Good names\n",
    "\n",
    "- Meaningful\n",
    "- Not too long\n",
    "- Easy to read: `camelCase` or `snake_case`\n",
    "  - It is conventional to start a variable name with a lowercase character.\n",
    "\n",
    "### Don't use names that are\n",
    "- Meaningless such as `a, b, c`\n",
    "- Already used as built-in function names such as `input, min, max`"
   ]
  },
  {
   "cell_type": "code",
   "execution_count": null,
   "metadata": {
    "id": "9Jx9YZYDNDuB"
   },
   "outputs": [],
   "source": []
  },
  {
   "cell_type": "markdown",
   "metadata": {
    "id": "BDxuyrLlI5rM"
   },
   "source": [
    "### Tips\n",
    "Modern programming text editors, IDEs, and notebooks use different colors to represent\n",
    "- Variables\n",
    "- Keywords\n",
    "- Number literals\n",
    "- String literals\n",
    "- Built-in functions"
   ]
  },
  {
   "cell_type": "code",
   "execution_count": null,
   "metadata": {
    "id": "FDduAaoKJxYu"
   },
   "outputs": [],
   "source": [
    "name = input('Enter your name:')\n",
    "print(2, '2', name)\n",
    "class if while"
   ]
  },
  {
   "cell_type": "code",
   "execution_count": null,
   "metadata": {
    "id": "W1rhnlztNga0"
   },
   "outputs": [],
   "source": [
    "a = 2+2\n",
    "print(a)"
   ]
  },
  {
   "cell_type": "code",
   "execution_count": null,
   "metadata": {},
   "outputs": [],
   "source": [
    "2 = n"
   ]
  },
  {
   "cell_type": "markdown",
   "metadata": {
    "id": "QMjLohT2LAS4"
   },
   "source": [
    "## Expressions and statements\n",
    "\n",
    "An **expression** is a combination of values, variables, and operators. A value, or a variable is also a basic expression.\n",
    "\n",
    "The interpreter will evaluate the expression to get the final value. Usually, the result resides in the memory but doesn't have any labeled name. If we assign a variable to an expression, the evaluated value of the expression will be labeled with that variable name.\n",
    "\n",
    "A **statement** is a unit of code that can be executed."
   ]
  },
  {
   "cell_type": "markdown",
   "metadata": {
    "id": "vSlpo-S3Mh0l"
   },
   "source": [
    "## Referring to a variable\n",
    "\n",
    "When we state the name of a variable, there are two use cases\n",
    "1. We want to put the label name on the box.\n",
    "2. We want the value inside that box. This situation is when we evaluate an expression using a variable, or when we pass a variable to function.\n"
   ]
  },
  {
   "cell_type": "code",
   "execution_count": null,
   "metadata": {
    "id": "DSUmG8m0-bVC"
   },
   "outputs": [],
   "source": [
    "n = 10\n",
    "print(n)\n",
    "n = 7"
   ]
  },
  {
   "cell_type": "code",
   "execution_count": null,
   "metadata": {
    "id": "mQpOPOt9-o6U"
   },
   "outputs": [],
   "source": [
    "print(n)"
   ]
  },
  {
   "cell_type": "code",
   "execution_count": null,
   "metadata": {
    "id": "9dhWub9pPKc7"
   },
   "outputs": [],
   "source": [
    "print(id(n))\n",
    "n = 2.5\n",
    "print(id(n))\n",
    "m = n\n",
    "print(id(n), id(m))\n",
    "m = float(n)\n",
    "print(id(n), id(m))"
   ]
  },
  {
   "cell_type": "code",
   "execution_count": null,
   "metadata": {
    "id": "bIW_hPo7Qm4H"
   },
   "outputs": [],
   "source": [
    "n = [1,2,3]\n",
    "m = list(n)\n",
    "print(m, n)\n",
    "print(id(m), id(n))\n",
    "n[0] = 0\n",
    "print(m,n)\n",
    "print(id(m), id(n))\n"
   ]
  },
  {
   "cell_type": "markdown",
   "metadata": {
    "id": "fd9sd5S4-zqz"
   },
   "source": [
    "# 5. Precedence and associativity"
   ]
  },
  {
   "cell_type": "markdown",
   "metadata": {
    "id": "xgK69ek0-6ko"
   },
   "source": [
    "## Arithemtic operations\n",
    "- `( )`\n",
    "- `**`\n",
    "- `*` `/`\n",
    "- `+ -`\n",
    "\n",
    "When there are more than one operators in a statement, the order of operations depends on the precedence.\n",
    "\n",
    "When there is an operand whose left and right operators have the same precedence level, the associativity determines the order of operations.\n",
    "- Left associativity\n",
    "- Right associativity"
   ]
  },
  {
   "cell_type": "code",
   "execution_count": null,
   "metadata": {},
   "outputs": [],
   "source": [
    "n"
   ]
  },
  {
   "cell_type": "code",
   "execution_count": null,
   "metadata": {},
   "outputs": [],
   "source": [
    "a = b = n"
   ]
  },
  {
   "cell_type": "code",
   "execution_count": null,
   "metadata": {},
   "outputs": [],
   "source": [
    "n = c = d"
   ]
  },
  {
   "cell_type": "markdown",
   "metadata": {
    "id": "UQyhoJQRASBT"
   },
   "source": [
    "### Exercise\n",
    "\n",
    "Write an expression to calculate the positive root of a polynomial equation\n",
    "$$ax^2+bx+c = 0,$$\n",
    "\n",
    "which is\n",
    "$$\\frac{-b + \\sqrt{b^2-4ac}}{2a}$$"
   ]
  },
  {
   "cell_type": "code",
   "execution_count": null,
   "metadata": {
    "id": "82Vt1WBASGZy"
   },
   "outputs": [],
   "source": [
    "a = 1\n",
    "b = 4\n",
    "c = 4"
   ]
  },
  {
   "cell_type": "code",
   "execution_count": null,
   "metadata": {
    "id": "98UaCWlfAyj-"
   },
   "outputs": [],
   "source": [
    "# Solution -> -2\n",
    "(-b+(b**2-4*a*c)**0.5)/(2*a)"
   ]
  },
  {
   "cell_type": "markdown",
   "metadata": {
    "id": "VYyguzT1A-EL"
   },
   "source": [
    "# 6. Scripting"
   ]
  },
  {
   "cell_type": "markdown",
   "metadata": {
    "id": "v22EdyrLBe1O"
   },
   "source": [
    "All modern IDEs and notebooks have an option to download all executed statements in the interactive mode. We can save them into a file, generally with `.py` extension.\n",
    "\n",
    "Note that in the interactive mode, the default output device is the display. When a statement is executed, the return value will be printed out on the screen. However, in the script mode, we need to explicitly call the `print` function to display the result on the screen."
   ]
  },
  {
   "cell_type": "markdown",
   "metadata": {
    "id": "vLACYxWPGJCh"
   },
   "source": [
    "## Standard I/O\n",
    "\n",
    "The `print` function actually sends the output to the default output device, which is the standard output. We can change the target output device by specifying the option of the `print` function.\n",
    "\n",
    "Similar to the standard output, we also have the standard input device, which is a keyboard."
   ]
  },
  {
   "cell_type": "markdown",
   "metadata": {
    "id": "yiOuV1pAC6-k"
   },
   "source": [
    "## Comments\n",
    "\n",
    "Apart from the statements that we communicate with the machine, we may want to talk with other human reading our codes. Although Python syntax is intuitive and quite similar to English, having a clear explanation in human language can help the reader to understand our codes. Sometimes, it also helps us, the writer, when we come back to our codes after a while. These notes are **comments**, which are ignored by the interpreter.\n",
    "\n",
    "We have two types of comments\n",
    "1. In-line comments\n",
    "- Everything following `#` symbol until the end of the line is a comment.\n",
    "2. Block comments\n",
    "- When a comment is very long, we may split them into several lines. We may put `#` in fron of every line. Or, use a multiline string."
   ]
  },
  {
   "cell_type": "code",
   "execution_count": null,
   "metadata": {
    "id": "V-I1geUMVbed"
   },
   "outputs": [],
   "source": [
    "n = 10 # set the initial value of n"
   ]
  },
  {
   "cell_type": "code",
   "execution_count": null,
   "metadata": {
    "id": "F3bLhnfmGxGv"
   },
   "outputs": [],
   "source": [
    "'''\n",
    "  This is\n",
    "  multiline\n",
    "  strings.\n",
    "'''"
   ]
  },
  {
   "cell_type": "code",
   "execution_count": null,
   "metadata": {
    "id": "m2NPpzxUG4fn"
   },
   "outputs": [],
   "source": [
    "\"\"\" This is\n",
    "also\n",
    "a\n",
    "multiline\n",
    "text. \"\"\""
   ]
  },
  {
   "cell_type": "markdown",
   "metadata": {
    "id": "-puKdTbyEp48"
   },
   "source": [
    "### Good comments\n",
    "Some conventions in using comments are\n",
    "- Explain what a function/method does, just right before defining the function/method.\n",
    "- Add information which is not explicitly written by the code such as the unit of calculation\n",
    "- Explain what does the following statements are intended to do.\n",
    "\n",
    "Some programs can *automatically* generate documentation for us if we write comments in a specific format. This feature is handy when we implement an API."
   ]
  },
  {
   "cell_type": "markdown",
   "metadata": {
    "id": "rM8j6CD4z9Kv"
   },
   "source": [
    "# 7. Debugging tips"
   ]
  },
  {
   "cell_type": "markdown",
   "metadata": {
    "id": "7_w7Imaf0AWH"
   },
   "source": [
    "- Start writing short codes using an interactive mode\n",
    "- Copy bug-free codes to a script\n",
    "- Split jobs into smaller jobs and\n",
    "  - **Test each job separately**\n",
    "  - Integrate all jobs and test the whole codes again"
   ]
  },
  {
   "cell_type": "markdown",
   "metadata": {
    "id": "VCjVQWuo18aJ"
   },
   "source": [
    "## Error types\n",
    "\n",
    "There are three kinds of errors, syntax errors, runtime errors, and logical errors."
   ]
  },
  {
   "cell_type": "markdown",
   "metadata": {
    "id": "ewGTnBoc2Ei6"
   },
   "source": [
    "### Syntax errors\n",
    "\n",
    "A syntax error is the most straightforward errors to be fixed. Since a standard interpreter usually indicates where the error occurs and which type the error is."
   ]
  },
  {
   "cell_type": "code",
   "execution_count": null,
   "metadata": {
    "id": "T3WxoLOE3y1v"
   },
   "outputs": [],
   "source": [
    "2 = xi"
   ]
  },
  {
   "cell_type": "code",
   "execution_count": null,
   "metadata": {
    "id": "cs0foRtu4UYG"
   },
   "outputs": [],
   "source": [
    "2a"
   ]
  },
  {
   "cell_type": "markdown",
   "metadata": {
    "id": "a7znXA2h32S2"
   },
   "source": [
    "### Runtime errors"
   ]
  },
  {
   "cell_type": "markdown",
   "metadata": {
    "id": "mHK2GILX38tJ"
   },
   "source": [
    "A runtime error occurs when the program run with some inputs. These errors are also called **exceptions**."
   ]
  },
  {
   "cell_type": "code",
   "execution_count": null,
   "metadata": {
    "id": "FrgEy2VM4aAD"
   },
   "outputs": [],
   "source": [
    "'2' * '4'"
   ]
  },
  {
   "cell_type": "code",
   "execution_count": null,
   "metadata": {
    "id": "WWfCCQNKWshm"
   },
   "outputs": [],
   "source": [
    "10 / 0"
   ]
  },
  {
   "cell_type": "markdown",
   "metadata": {
    "id": "C-iYP4161Pbq"
   },
   "source": [
    "## Test cases\n",
    "\n",
    "We test a program (or function) using a set of test cases. We hope that if our codes pass all of the test cases, there won't be any error when we run it in production.\n",
    "\n",
    "Usually, it is not practical, or sometimes impossible, to generate all test cases. Instead, we divide cases into subgroups and choose a representative sample from each group to test."
   ]
  },
  {
   "cell_type": "markdown",
   "metadata": {
    "id": "WrRo3ZTn6ZW3"
   },
   "source": [
    "### Simple test case design\n",
    "\n",
    "When dealing with numbers,\n",
    "- There are positive, zero, and negative numbers.\n",
    "- When there is an interval, there are numbers in and out of the range.\n",
    "- There are integers and floating-point numbers.\n",
    "\n",
    "When dealing with text,\n",
    "- There is an empty string, '', texts with short and long length.\n",
    "- There are alphabets, numerals, and symbols."
   ]
  },
  {
   "cell_type": "markdown",
   "metadata": {
    "id": "by3Y4YqI7bWP"
   },
   "source": [
    "# Lab"
   ]
  },
  {
   "cell_type": "markdown",
   "metadata": {
    "id": "dfQKRsJVCzL5"
   },
   "source": [
    "### Answering the question\n",
    "\n",
    "1. Write everything after the tag `# YOUR CODE HERE`\n",
    "2. Delete the `raise NotImplementedError()` line when you start implementing your code. It will throw an error if you didn't implement anything (and, you will not got any score).\n",
    "\n",
    "We will run the test script on your code! Make sure that it is runnable and there is no error.\n"
   ]
  },
  {
   "cell_type": "markdown",
   "metadata": {},
   "source": [
    "### Running the test"
   ]
  },
  {
   "cell_type": "markdown",
   "metadata": {},
   "source": [
    "Wee need the following libraries for mocking the input and output:\n",
    "- `patch` from `unittest.mock`\n",
    "- `StringIO` from `io`\n",
    "\n",
    "You need to run the import cell before running any test cell."
   ]
  },
  {
   "cell_type": "code",
   "execution_count": null,
   "metadata": {},
   "outputs": [],
   "source": [
    "from unittest.mock import patch\n",
    "from io import StringIO"
   ]
  },
  {
   "cell_type": "markdown",
   "metadata": {},
   "source": [
    "There will be a `test_xxx(inputs, outputs)` function for each question or subquestion. After defining the test function (by running the `def` cell), we will call the test function by running each of the test cells. Theses test cells will call the test function with the inputs and outputs defined in the parameter of the call. If the test passes, you will see a `Test Passed` message. If the test fails, you will see a `Test Failed` message and the expected and actual outputs."
   ]
  },
  {
   "cell_type": "markdown",
   "metadata": {},
   "source": [
    "The following cell is an example of the question."
   ]
  },
  {
   "cell_type": "code",
   "execution_count": null,
   "metadata": {},
   "outputs": [],
   "source": [
    "def q1():\n",
    "    \"\"\" Print Hello World!\"\"\"\n",
    "    # YOUR CODE HERE\n",
    "    print(\"Hello World\")"
   ]
  },
  {
   "cell_type": "markdown",
   "metadata": {},
   "source": [
    "You may try running your code in the next cell."
   ]
  },
  {
   "cell_type": "code",
   "execution_count": null,
   "metadata": {},
   "outputs": [],
   "source": [
    "# call the answer function\n",
    "q1()"
   ]
  },
  {
   "cell_type": "markdown",
   "metadata": {},
   "source": [
    "The following cell is the test definition for `q1`. Do not change anything in the test function."
   ]
  },
  {
   "cell_type": "code",
   "execution_count": null,
   "metadata": {},
   "outputs": [],
   "source": [
    "def test_q1(inputs, outputs): \n",
    "    # We are passing the inputs to the function and capturing the output\n",
    "    with patch('builtins.input', side_effect=inputs), patch('sys.stdout', new_callable=StringIO) as mock_stdout:\n",
    "        q1()\n",
    "\n",
    "    # strip newlines and spaces\n",
    "    your_output = mock_stdout.getvalue().strip()    \n",
    "    \n",
    "    # We are comparing the output with the expected output. \n",
    "    assert your_output == outputs, 'Test Failed.\\nYour output: {}\\nExpected output: {}'.format(your_output, outputs)\n",
    "    print('Test Passed')"
   ]
  },
  {
   "cell_type": "markdown",
   "metadata": {},
   "source": [
    "Now, we will run the test cells. One cell represents one test case."
   ]
  },
  {
   "cell_type": "code",
   "execution_count": null,
   "metadata": {},
   "outputs": [],
   "source": [
    "test_q1('','Hello World!')"
   ]
  },
  {
   "cell_type": "markdown",
   "metadata": {
    "id": "iZpTCEzh8Hgf"
   },
   "source": [
    "# Questions\n",
    "\n",
    "We will write simple arithmetic functions.\n",
    "1. Write a function that read two real numbers individually, then print their sum.\n",
    "2. Write a function that read two real numbers individually, then print their difference.\n",
    "3. Write a function that read two real numbers individually, then print their product.\n",
    "4. Write a function that read two real numbers individually, then print their quotient upto 2 decimal places."
   ]
  },
  {
   "cell_type": "markdown",
   "metadata": {
    "id": "2H-b_o6j8Jrw"
   },
   "source": [
    "#"
   ]
  },
  {
   "cell_type": "code",
   "execution_count": null,
   "metadata": {},
   "outputs": [],
   "source": [
    "from unittest.mock import patch\n",
    "from io import StringIO"
   ]
  },
  {
   "cell_type": "markdown",
   "metadata": {},
   "source": [
    "## Q1\n",
    "\n",
    "Example test cases\n",
    "\n",
    "**Test case 1**\\\n",
    "2 \\\n",
    "3 \\\n",
    "5.0\n",
    "\n",
    "**Test case 2**\\\n",
    "1 \\\n",
    "-1 \\\n",
    "0.0\n",
    "\n",
    "**Test case 3**\\\n",
    "2.5 \\\n",
    "0 \\\n",
    "2.5"
   ]
  },
  {
   "cell_type": "code",
   "execution_count": null,
   "metadata": {
    "id": "SksLVGphFcVB"
   },
   "outputs": [],
   "source": [
    "# Q1\n",
    "def q1_add():\n",
    "    \"\"\"Read two real numbers individually, then print their sum.\n",
    "    \n",
    "    \"\"\"\n",
    "    # YOUR CODE HERE\n",
    "    raise NotImplementedError()\n"
   ]
  },
  {
   "cell_type": "code",
   "execution_count": null,
   "metadata": {},
   "outputs": [],
   "source": [
    "# debugging Q1\n",
    "q1_add()"
   ]
  },
  {
   "cell_type": "code",
   "execution_count": null,
   "metadata": {},
   "outputs": [],
   "source": [
    "# Q1 test definition\n",
    "\n",
    "def test_add(inputs, outputs): \n",
    "    # We are passing the inputs to the function and capturing the output\n",
    "    with patch('builtins.input', side_effect=inputs), patch('sys.stdout', new_callable=StringIO) as mock_stdout:\n",
    "        q1_add()\n",
    "\n",
    "    # round expected output to 2 decimal places\n",
    "    expected_output = round(float(outputs), 2)\n",
    "\n",
    "    # round output to 2 decimal places\n",
    "    your_output = round(float(mock_stdout.getvalue()),2)\n",
    "    \n",
    "    # We are comparing the output with the expected output. \n",
    "    assert your_output == expected_output, 'Test Failed.\\nYour output: {}\\nExpected output: {}'.format(your_output, expected_output)\n",
    "    print('Test Passed')"
   ]
  },
  {
   "cell_type": "code",
   "execution_count": null,
   "metadata": {},
   "outputs": [],
   "source": [
    "test_add(['2','3'],'5.0')"
   ]
  },
  {
   "cell_type": "code",
   "execution_count": null,
   "metadata": {},
   "outputs": [],
   "source": [
    "test_add(['1','-1'],'0.0')"
   ]
  },
  {
   "cell_type": "code",
   "execution_count": null,
   "metadata": {},
   "outputs": [],
   "source": [
    "test_add(['2.5','0'],'2.5')"
   ]
  },
  {
   "cell_type": "markdown",
   "metadata": {},
   "source": [
    "## Q2\n",
    "\n",
    "Example test cases\n",
    "\n",
    "**Test case 1**\\\n",
    "2 \\\n",
    "3 \\\n",
    "-1.0\n",
    "\n",
    "**Test case 2**\\\n",
    "1 \\\n",
    "-1 \\\n",
    "2.0\n",
    "\n",
    "**Test case 3**\\\n",
    "2.5 \\\n",
    "0 \\\n",
    "2.5"
   ]
  },
  {
   "cell_type": "code",
   "execution_count": null,
   "metadata": {},
   "outputs": [],
   "source": [
    "# Q2\n",
    "def q2_diff():\n",
    "    \"\"\"Read two real numbers individually, then print their difference.\n",
    "    \n",
    "    \"\"\"\n",
    "    # YOUR CODE HERE\n",
    "    raise NotImplementedError()"
   ]
  },
  {
   "cell_type": "code",
   "execution_count": null,
   "metadata": {},
   "outputs": [],
   "source": [
    "# debugging Q2\n",
    "q2_diff()"
   ]
  },
  {
   "cell_type": "code",
   "execution_count": null,
   "metadata": {},
   "outputs": [],
   "source": [
    "# Q2 test definition\n",
    "\n",
    "def test_diff(inputs, outputs): \n",
    "    # We are passing the inputs to the function and capturing the output\n",
    "    with patch('builtins.input', side_effect=inputs), patch('sys.stdout', new_callable=StringIO) as mock_stdout:\n",
    "        q2_diff()\n",
    "\n",
    "    # round expected output to 2 decimal places\n",
    "    expected_output = round(float(outputs), 2)\n",
    "\n",
    "    # round output to 2 decimal places\n",
    "    your_output = round(float(mock_stdout.getvalue()),2)\n",
    "    \n",
    "    # We are comparing the output with the expected output. \n",
    "    assert your_output == expected_output, 'Test Failed.\\nYour output: {}\\nExpected output: {}'.format(your_output, expected_output)\n",
    "    print('Test Passed')"
   ]
  },
  {
   "cell_type": "code",
   "execution_count": null,
   "metadata": {},
   "outputs": [],
   "source": [
    "test_diff(['2','3'],'-1.0')"
   ]
  },
  {
   "cell_type": "code",
   "execution_count": null,
   "metadata": {},
   "outputs": [],
   "source": [
    "test_diff(['1','-1'],'2.0')"
   ]
  },
  {
   "cell_type": "code",
   "execution_count": null,
   "metadata": {},
   "outputs": [],
   "source": [
    "test_diff(['2.5','0'],'2.5')"
   ]
  },
  {
   "cell_type": "markdown",
   "metadata": {},
   "source": [
    "## Q3\n",
    "\n",
    "Example test cases\n",
    "\n",
    "**Test case 1**\\\n",
    "2 \\\n",
    "3 \\\n",
    "6.0\n",
    "\n",
    "**Test case 2**\\\n",
    "1 \\\n",
    "-1 \\\n",
    "-1.0\n",
    "\n",
    "**Test case 3**\\\n",
    "2.5 \\\n",
    "0 \\\n",
    "0.0"
   ]
  },
  {
   "cell_type": "code",
   "execution_count": null,
   "metadata": {},
   "outputs": [],
   "source": [
    "# Q3\n",
    "def q3_prod():\n",
    "    \"\"\"Read two real numbers individually, then print their product.\n",
    "    \n",
    "    \"\"\"\n",
    "    # YOUR CODE HERE\n",
    "    raise NotImplementedError()\n"
   ]
  },
  {
   "cell_type": "code",
   "execution_count": null,
   "metadata": {},
   "outputs": [],
   "source": [
    "# debugging Q3\n",
    "q3_prod()"
   ]
  },
  {
   "cell_type": "code",
   "execution_count": null,
   "metadata": {},
   "outputs": [],
   "source": [
    "# Q3 test definition\n",
    "\n",
    "def test_prod(inputs, outputs): \n",
    "    # We are passing the inputs to the function and capturing the output\n",
    "    with patch('builtins.input', side_effect=inputs), patch('sys.stdout', new_callable=StringIO) as mock_stdout:\n",
    "        q3_prod()\n",
    "\n",
    "    # round expected output to 2 decimal places\n",
    "    expected_output = round(float(outputs), 2)\n",
    "\n",
    "    # round output to 2 decimal places\n",
    "    your_output = round(float(mock_stdout.getvalue()),2)\n",
    "    \n",
    "    # We are comparing the output with the expected output. \n",
    "    assert your_output == expected_output, 'Test Failed.\\nYour output: {}\\nExpected output: {}'.format(your_output, expected_output)\n",
    "    print('Test Passed')"
   ]
  },
  {
   "cell_type": "code",
   "execution_count": null,
   "metadata": {},
   "outputs": [],
   "source": [
    "test_prod(['2','3'],'6.0')"
   ]
  },
  {
   "cell_type": "code",
   "execution_count": null,
   "metadata": {},
   "outputs": [],
   "source": [
    "test_prod(['1','-1'],'-1.0')"
   ]
  },
  {
   "cell_type": "code",
   "execution_count": null,
   "metadata": {},
   "outputs": [],
   "source": [
    "test_prod(['2.5','0'],'0.0')"
   ]
  },
  {
   "cell_type": "markdown",
   "metadata": {},
   "source": [
    "## Q4\n",
    "\n",
    "Example test cases\n",
    "\n",
    "**Test case 1**\\\n",
    "2 \\\n",
    "3 \\\n",
    "0.67\n",
    "\n",
    "**Test case 2**\\\n",
    "1 \\\n",
    "-1 \\\n",
    "-1.0\n",
    "\n",
    "**Test case 3**\\\n",
    "2.5 \\\n",
    "1 \\\n",
    "2.5"
   ]
  },
  {
   "cell_type": "code",
   "execution_count": null,
   "metadata": {},
   "outputs": [],
   "source": [
    "# Q4\n",
    "def q4_quotient():\n",
    "    \"\"\"Read two real numbers individually, then print their quotient upto 2 decimal places.\n",
    "    \n",
    "    \"\"\"\n",
    "    # YOUR CODE HERE\n",
    "    raise NotImplementedError()\n"
   ]
  },
  {
   "cell_type": "code",
   "execution_count": null,
   "metadata": {},
   "outputs": [],
   "source": [
    "# debugging Q4\n",
    "q4_quotient()"
   ]
  },
  {
   "cell_type": "code",
   "execution_count": null,
   "metadata": {},
   "outputs": [],
   "source": [
    "# Q4 test definition\n",
    "\n",
    "def test_quotient(inputs, outputs): \n",
    "    # We are passing the inputs to the function and capturing the output\n",
    "    with patch('builtins.input', side_effect=inputs), patch('sys.stdout', new_callable=StringIO) as mock_stdout:\n",
    "        q4_quotient()\n",
    "\n",
    "    # round expected output to 2 decimal places\n",
    "    expected_output = round(float(outputs), 2)\n",
    "\n",
    "    # round output to 2 decimal places\n",
    "    your_output = round(float(mock_stdout.getvalue()),2)\n",
    "    \n",
    "    # We are comparing the output with the expected output. \n",
    "    assert your_output == expected_output, 'Test Failed.\\nYour output: {}\\nExpected output: {}'.format(your_output, expected_output)\n",
    "    print('Test Passed')"
   ]
  },
  {
   "cell_type": "code",
   "execution_count": null,
   "metadata": {},
   "outputs": [],
   "source": [
    "test_quotient(['2','3'],'0.67')"
   ]
  },
  {
   "cell_type": "code",
   "execution_count": null,
   "metadata": {},
   "outputs": [],
   "source": [
    "test_quotient(['1','-1'],'-1.0')"
   ]
  },
  {
   "cell_type": "code",
   "execution_count": null,
   "metadata": {},
   "outputs": [],
   "source": [
    "test_quotient(['2.5','1'],'2.5')"
   ]
  },
  {
   "cell_type": "markdown",
   "metadata": {},
   "source": [
    "## Submission guideline\n",
    "\n",
    "Make sure that your code passes all the visible tests. There are hidden test cases that will be used to grade your code. Your score will be based on the number of passed test cases, both visible and hidden ones.\n",
    "\n",
    "To submit your code, you need to upload the following files to the corresponding assignment on myCourseVille."
   ]
  }
 ],
 "metadata": {
  "colab": {
   "collapsed_sections": [
    "XGSthh1mTBdw",
    "hqBEb7z-Veg_",
    "gOeYUqb2WRDe",
    "LYMH5zbzXK1v",
    "yI7Z9DzUYIpc",
    "imdBdL2CZis4",
    "hcDoIs4sZ84d",
    "F1-H6ZhqaN7n",
    "C61g43UwbHZb",
    "Lxa6IxFFbMAC",
    "moxenmhNbPL1",
    "tHIF5pRUcAQf",
    "NUYW_NBydktl",
    "fOIEgacieIqJ",
    "4-614fVCh44Z",
    "NjLAiD9xiyJy",
    "U849Jx7ejQYG",
    "eZiR5U00nius",
    "ZoU6NQ2unTGu",
    "CtSRpBKp8-7o",
    "3IAPHD-R-gIT",
    "J0Bt_gu_-qXn",
    "lO93YfeQHCmV",
    "oWw3tI5JL7-F",
    "ZsrE8QOm_uJY",
    "xp9YpT7IAJ-f",
    "5aZtmszzCyY8",
    "h502CHDKDXuK",
    "hE9Mxv5dFUW8",
    "CF3Iovn8GuzW",
    "BDxuyrLlI5rM",
    "QMjLohT2LAS4",
    "vSlpo-S3Mh0l",
    "fd9sd5S4-zqz",
    "xgK69ek0-6ko",
    "UQyhoJQRASBT",
    "VYyguzT1A-EL",
    "vLACYxWPGJCh",
    "yiOuV1pAC6-k",
    "-puKdTbyEp48",
    "rM8j6CD4z9Kv",
    "VCjVQWuo18aJ",
    "ewGTnBoc2Ei6",
    "a7znXA2h32S2",
    "C-iYP4161Pbq",
    "WrRo3ZTn6ZW3"
   ],
   "name": "2301172-Lab0",
   "provenance": []
  },
  "kernelspec": {
   "display_name": "compprog",
   "language": "python",
   "name": "python3"
  },
  "language_info": {
   "codemirror_mode": {
    "name": "ipython",
    "version": 3
   },
   "file_extension": ".py",
   "mimetype": "text/x-python",
   "name": "python",
   "nbconvert_exporter": "python",
   "pygments_lexer": "ipython3",
   "version": "3.10.4"
  }
 },
 "nbformat": 4,
 "nbformat_minor": 1
}
