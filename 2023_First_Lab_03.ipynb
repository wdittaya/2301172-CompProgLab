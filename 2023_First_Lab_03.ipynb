{
  "cells": [
    {
      "cell_type": "markdown",
      "metadata": {
        "id": "view-in-github",
        "colab_type": "text"
      },
      "source": [
        "<a href=\"https://colab.research.google.com/github/wdittaya/2301172-CompProgLab/blob/main/2023_First_Lab_03.ipynb\" target=\"_parent\"><img src=\"https://colab.research.google.com/assets/colab-badge.svg\" alt=\"Open In Colab\"/></a>"
      ]
    },
    {
      "cell_type": "markdown",
      "metadata": {
        "id": "3S4tSJ38oCH7"
      },
      "source": [
        "# Instructions\n",
        "\n",
        "1. Write everything after the tag `# YOUR CODE HERE`\n",
        "2. Delete the `raise NotImplementedError()` line when you start implementing your code. It will throw an error if you didn't implement anything (and, you will not got any score).\n",
        "3. Name your file with your student ID and lab number, e.g. `6431234523-lab-03.ipynb`\n",
        "4. If you want to run your function, do it in a separate cell. Do not run the function in the definition cell. **Note:** If you run the function in the definition cell, you will get an error with the hidden test case.\n",
        "\n",
        "**DO NOT CHANGE THE FUNCTION NAME!!!**"
      ]
    },
    {
      "cell_type": "markdown",
      "metadata": {
        "id": "Fv94gq7aoCIN"
      },
      "source": [
        "# Lab-03 Outline\n",
        "\n",
        "The objective of this lab is to practice with if statements. You will be asked to implement a function that calculates the income tax of a person."
      ]
    },
    {
      "cell_type": "markdown",
      "metadata": {
        "id": "0dJKG8fooCIP"
      },
      "source": [
        "Thai income tax is calculated as follows:\n",
        "\n",
        "| Taxable Income (Baht) | Tax Rate (%) |\n",
        "|-----------------------|--------------|\n",
        "| 0 - 150,000           | 0            |\n",
        "| 150,001 - 300,000     | 5            |\n",
        "| 300,001 - 500,000     | 10           |\n",
        "| 500,001 - 750,000     | 15           |\n",
        "| 750,001 - 1,000,000   | 20           |\n",
        "| 1,000,001 - 2,000,000 | 25           |\n",
        "| 2,000,001 - 5,000,000 | 30           |\n",
        "| 5,000,001 and above   | 35           |\n",
        "\n",
        "For example, if a person has a taxable income of 1,000,000 Baht, the income tax is calculated as follows:\n",
        "- First 150,000 Baht is not taxed.\n",
        "- Next 150,000 Baht is taxed at 5%: 150,000 * 5% = 7,500 Baht\n",
        "- Next 200,000 Baht is taxed at 10%: 200,000 * 10% = 20,000 Baht\n",
        "- Next 250,000 Baht is taxed at 15%: 250,000 * 15% = 37,500 Baht\n",
        "- Next 250,000 Baht is taxed at 20%: 250,000 * 20% = 50,000 Baht\n",
        "\n",
        "Total tax is 7,500 + 20,000 + 37,500 + 50,000 = 115,000 Baht"
      ]
    },
    {
      "cell_type": "markdown",
      "metadata": {
        "id": "hzXvJn9LoCIS"
      },
      "source": [
        "# (10 pts.) Q1 - Implement the function `calculate_tax`\n",
        "\n",
        "Implement the function `calculate_tax` that takes a taxable income as an input from a user and print the income tax in floating point format.\n",
        "\n",
        "Example test cases\n",
        "- texts in **bold** are input from the user\n",
        "- `⏎` indicates the cariage return symbol (i.e. the user pressed the enter key)\n",
        "\n",
        "Enter your taxable income: **100000⏎**\\\n",
        "0.0\n",
        "\n",
        "Enter your taxable income: **170000⏎**\\\n",
        "1000.0\n",
        "\n",
        "Enter your taxable income: **1000000⏎**\\\n",
        "115000.0\n"
      ]
    },
    {
      "cell_type": "code",
      "execution_count": null,
      "metadata": {
        "id": "t2eeXRCdoCIV"
      },
      "outputs": [],
      "source": [
        "def calculate_tax():\n",
        "    # YOUR CODE HERE\n",
        "    raise NotImplementedError()"
      ]
    },
    {
      "cell_type": "code",
      "execution_count": null,
      "metadata": {
        "id": "dj7jaCoUoCId"
      },
      "outputs": [],
      "source": [
        "from unittest.mock import patch\n",
        "from io import StringIO\n",
        "\n",
        "def test_calculate_tax(inputs, outputs):\n",
        "    with patch('builtins.input', side_effect=inputs), patch('sys.stdout', new_callable=StringIO) as mock_stdout:\n",
        "        calculate_tax()\n",
        "\n",
        "        # converting expected output and actual ouput to float\n",
        "        expected_output = float(outputs)\n",
        "        actual_output = float(mock_stdout.getvalue())\n",
        "\n",
        "        # comparing expected and actual output\n",
        "        assert expected_output == actual_output, 'Test Failed.\\nYour printed output: {}\\nExpected output: {}'.format(actual_output, expected_output)\n",
        "    print('Test Passed')"
      ]
    },
    {
      "cell_type": "code",
      "execution_count": null,
      "metadata": {
        "id": "P6iEgXOToCIh"
      },
      "outputs": [],
      "source": [
        "test_calculate_tax(['100000'], '0.0')"
      ]
    },
    {
      "cell_type": "code",
      "execution_count": null,
      "metadata": {
        "id": "0AfCYtr3oCIj"
      },
      "outputs": [],
      "source": [
        "test_calculate_tax(['170000'], '1000.0')"
      ]
    },
    {
      "cell_type": "code",
      "execution_count": null,
      "metadata": {
        "id": "Q9f3FWwvoCIm"
      },
      "outputs": [],
      "source": [
        "test_calculate_tax(['1000000'], '115000.0')"
      ]
    }
  ],
  "metadata": {
    "kernelspec": {
      "display_name": "compprog",
      "language": "python",
      "name": "python3"
    },
    "language_info": {
      "codemirror_mode": {
        "name": "ipython",
        "version": 3
      },
      "file_extension": ".py",
      "mimetype": "text/x-python",
      "name": "python",
      "nbconvert_exporter": "python",
      "pygments_lexer": "ipython3",
      "version": "3.10.4"
    },
    "orig_nbformat": 4,
    "colab": {
      "provenance": [],
      "include_colab_link": true
    }
  },
  "nbformat": 4,
  "nbformat_minor": 0
}