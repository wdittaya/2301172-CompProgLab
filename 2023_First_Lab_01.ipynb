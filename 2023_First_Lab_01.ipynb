{
  "cells": [
    {
      "cell_type": "markdown",
      "metadata": {
        "id": "view-in-github",
        "colab_type": "text"
      },
      "source": [
        "<a href=\"https://colab.research.google.com/github/wdittaya/2301172-CompProgLab/blob/main/2023_First_Lab_01.ipynb\" target=\"_parent\"><img src=\"https://colab.research.google.com/assets/colab-badge.svg\" alt=\"Open In Colab\"/></a>"
      ]
    },
    {
      "cell_type": "markdown",
      "metadata": {
        "id": "fq8K6NpuD9ZP"
      },
      "source": [
        "# Instructions\n",
        "\n",
        "1. Write everything after the tag `# YOUR CODE HERE`\n",
        "2. Delete the `raise NotImplementedError()` line when you start implementing your code. It will throw an error if you didn't implement anything (and, you will not got any score).\n",
        "3. Name your file with your student ID and lab number, e.g. `6431234523-lab-01.ipynb`\n",
        "\n",
        "**DO NOT CHANGE THE FUNCTION NAME!!!**\n",
        "\n",
        "This workbook is co-authored with GitHub Copilot."
      ]
    },
    {
      "cell_type": "markdown",
      "metadata": {
        "id": "niT5VPZDD9ZS"
      },
      "source": [
        "# Lab-01 Outline\n",
        "\n",
        "You will be asked to use variables, working with different data types, and use basic functions such as `print()` and `input()`. You will also be asked to debug some codes."
      ]
    },
    {
      "cell_type": "markdown",
      "metadata": {
        "id": "q6f1uUPYD9ZS"
      },
      "source": [
        "## `input` and `print` functions\n",
        "\n",
        "The `input` function can print some text and wait for the user to type something. It then returns the text that the user typed. For example, the following code will print \"What is your name?\" and wait for the user to type something. When the user presses the Enter key, the text that they typed will be returned.\n",
        "\n",
        "```input(\"What is your name? \")```\n",
        "\n",
        "You may assign the returned text to a variable, like this:\n",
        "\n",
        "```name = input(\"What is your name? \")```\n",
        "\n",
        "The variable `name` will then contain the text that the user typed.\n",
        "\n",
        "The `print` function can be used to print text to the screen. For example, the following code will print \"Hello, world!\" to the screen:\n",
        "\n",
        "```print(\"Hello, world!\")```\n",
        "\n",
        "You may print values stored in variables, like this:\n",
        "\n",
        "```print(name)```\n",
        "\n",
        "If there are several values that you want to print, you may separate them with commas, like this:\n",
        "\n",
        "```print(\"Hello,\", name)```"
      ]
    },
    {
      "cell_type": "markdown",
      "metadata": {
        "id": "QyK1tv1BD9ZT"
      },
      "source": [
        "## Changing the data types\n",
        "\n",
        "Basic data types in Python are:\n",
        "- int or integer\n",
        "- float or floating point number\n",
        "- str or string\n",
        "\n",
        "You can check the data type of a variable using the `type()` function. For example:\n",
        "\n",
        "```type('1234')``` will return ```str```\n",
        "\n",
        "```type(1234)``` will return ```int```\n",
        "\n",
        "```type(12.34)``` will return ```float```\n",
        "\n",
        "To convert a value to a different data type, you can use the following functions:\n",
        "- ```int()``` to convert to integer\n",
        "- ```float()``` to convert to float\n",
        "- ```str()``` to convert to string\n",
        "\n",
        "The data type of a variable depends on the value assigned to it. For example, if you assign a string value to a variable, the variable will be of type string. If you assign an integer value to the same variable, the variable will be of type integer.\n",
        "\n",
        "To convert a variable to a different data type, you can use the above functions. For example, if you have a variable ```x``` that is of type integer, you can convert it to a string using ```str(x)```.\n"
      ]
    },
    {
      "cell_type": "markdown",
      "metadata": {
        "id": "c-0o4n48D9ZU"
      },
      "source": [
        "## Debugging tips\n",
        "- You may add a code cell to the notebook and try working with the code there\n",
        "- Use print statements to check the values of variables at different points in your code\n",
        "- Read the error messages carefully. They often tell you exactly what is wrong and where\n",
        "- Ask ChatGPT for help. However, you cannot use ChatGPT during the exam. So, it's better using ChatGPT as your personal TA instead of asking for answers"
      ]
    },
    {
      "cell_type": "markdown",
      "metadata": {
        "id": "08OwrPPtD9ZU"
      },
      "source": [
        "# (5 pts.) Q-1\n",
        "\n",
        "Write a program that asks the user for their student ID and saved the value in a variable called `student_id`.\n",
        "\n",
        "There are 3 shown test cases and 2 hidden test cases. The total points for this question is 5.\n",
        "\n",
        "Example test cases\n",
        "- texts in **bold** are input from the user\n",
        "- `⏎` indicates the cariage return symbol (i.e. the user pressed the enter key)\n",
        "\n",
        "**1235`⏎`**\n",
        "\n",
        "**6431234523`⏎`**\n",
        "\n",
        "**`⏎`**\n",
        "\n",
        "The last test case is an empty string. Just press enter without typing anything."
      ]
    },
    {
      "cell_type": "code",
      "execution_count": null,
      "metadata": {
        "id": "V316qKznD9ZV"
      },
      "outputs": [],
      "source": [
        "def get_student_id():\n",
        "    global student_id # do not remove this line\n",
        "    # YOUR CODE HERE\n",
        "    raise NotImplementedError()\n"
      ]
    },
    {
      "cell_type": "code",
      "execution_count": null,
      "metadata": {
        "id": "WUtegmNID9ZW"
      },
      "outputs": [],
      "source": [
        "from unittest.mock import patch\n",
        "from io import StringIO\n",
        "\n",
        "def test_get_student_id(inputs, outputs):\n",
        "    # access the global variable student_id, whose value is set in the function get_student_id()\n",
        "    global student_id\n",
        "\n",
        "    # We are passing the inputs to the function and capturing the output\n",
        "    with patch('builtins.input', side_effect=inputs), patch('sys.stdout', new_callable=StringIO) as mock_stdout:\n",
        "        get_student_id()\n",
        "\n",
        "    # check if the input string is stored in variable student_id\n",
        "    test_inputs = inputs[0].strip() # strip() removes the trailing newline\n",
        "    student_id = student_id.strip() # strip() removes the trailing newline\n",
        "\n",
        "    assert test_inputs == student_id, 'Test Failed.\\nYour value in student_id: {}\\nExpected value in student_id: {}'.format(student_id, test_inputs)\n",
        "    print('Test Passed')\n"
      ]
    },
    {
      "cell_type": "code",
      "execution_count": null,
      "metadata": {
        "id": "Ea4qcc1eD9ZX"
      },
      "outputs": [],
      "source": [
        "test_get_student_id(['1235'],'')"
      ]
    },
    {
      "cell_type": "code",
      "execution_count": null,
      "metadata": {
        "id": "gCIhFwwhD9ZX"
      },
      "outputs": [],
      "source": [
        "test_get_student_id(['6431234523'],'')"
      ]
    },
    {
      "cell_type": "code",
      "execution_count": null,
      "metadata": {
        "id": "k0VUiAFsD9ZX"
      },
      "outputs": [],
      "source": [
        "test_get_student_id([''],'')"
      ]
    },
    {
      "cell_type": "markdown",
      "metadata": {
        "id": "AmgEMbeDD9ZY"
      },
      "source": [
        "# (5 pts.) Q-2\n",
        "\n",
        "Write a program that asks the user for their student ID and saved the value in a variable. Then, print the student ID.\n",
        "\n",
        "There are 3 shown test cases and 2 hidden test cases. The total points for this question is 5.\n",
        "\n",
        "Example test cases.\n",
        "- normal texts are printed by the program\n",
        "- texts in **bold** are input from the user\n",
        "- `⏎` indicates the cariage return symbol (i.e. the user pressed the enter key)\n",
        "\n",
        "Enter ID: **1235`⏎`**\\\n",
        "12345\n",
        "\n",
        "Enter ID: **6431234523`⏎`**\\\n",
        "6431234523\n",
        "\n",
        "Enter ID: **`⏎`**\n",
        "\n",
        "\n",
        "The last test case is an empty string. Just press enter without typing anything.\n"
      ]
    },
    {
      "cell_type": "code",
      "execution_count": null,
      "metadata": {
        "id": "Pxf_v-YND9ZY"
      },
      "outputs": [],
      "source": [
        "def get_and_print_student_id():\n",
        "    # YOUR CODE HERE\n",
        "    raise NotImplementedError()\n"
      ]
    },
    {
      "cell_type": "code",
      "execution_count": null,
      "metadata": {
        "id": "zyq9yL7bD9ZY"
      },
      "outputs": [],
      "source": [
        "from unittest.mock import patch\n",
        "from io import StringIO\n",
        "\n",
        "def test_get_and_print_student_id(inputs, outputs):\n",
        "    # We are passing the inputs to the function and capturing the output\n",
        "    with patch('builtins.input', side_effect=inputs), patch('sys.stdout', new_callable=StringIO) as mock_stdout:\n",
        "        get_and_print_student_id()\n",
        "\n",
        "    # strip any whitespaces and newlines\n",
        "    your_output = mock_stdout.getvalue().strip()\n",
        "    outputs = outputs.strip()\n",
        "\n",
        "    # check if the printed output is correct\n",
        "    assert your_output == outputs, 'Test Failed.\\nYour printed output: {}\\nExpected output: {}'.format(your_output, outputs)\n",
        "    print('Test Passed')\n"
      ]
    },
    {
      "cell_type": "code",
      "execution_count": null,
      "metadata": {
        "id": "v6hIyfThD9ZY"
      },
      "outputs": [],
      "source": [
        "test_get_and_print_student_id(['1235'],'1235')"
      ]
    },
    {
      "cell_type": "code",
      "execution_count": null,
      "metadata": {
        "id": "YqjyufI0D9ZZ"
      },
      "outputs": [],
      "source": [
        "test_get_and_print_student_id(['6431234523'],'6431234523')"
      ]
    },
    {
      "cell_type": "code",
      "execution_count": null,
      "metadata": {
        "id": "8yl0d2tXD9ZZ"
      },
      "outputs": [],
      "source": [
        "test_get_and_print_student_id([''],'')"
      ]
    },
    {
      "cell_type": "markdown",
      "metadata": {
        "id": "U4WMJZoqD9ZZ"
      },
      "source": [
        "# (5 pts.) Q-3\n",
        "\n",
        "Write a program that asks the user for their student ID and saved the value in a variable. Then, print the student ID in the following format:\n",
        "\n",
        "```Your student ID is <student_id>```\n",
        "\n",
        "where ```<student_id>``` is the value of the variable.\n",
        "\n",
        "There are 3 shown test cases and 2 hidden test cases. The total points for this question is 5.\n",
        "\n",
        "Example test cases\n",
        "\n",
        "Enter ID: **1235`⏎`**\\\n",
        "Your student ID is 12345\n",
        "\n",
        "Enter ID: **6431234523`⏎`**\\\n",
        "Your student ID is 6431234523\n",
        "\n",
        "Enter ID: **`⏎`**\\\n",
        "Your student ID is\n",
        "\n",
        "The last test case is an empty string. Just press enter without typing anything. Note that the test script is case sensitive. Make sure you print the exact same string as shown in the example test cases. Moreover, check your spacing and punctuation marks."
      ]
    },
    {
      "cell_type": "code",
      "execution_count": null,
      "metadata": {
        "id": "S33eg61AD9ZZ"
      },
      "outputs": [],
      "source": [
        "def get_and_print_text_and_student_id():\n",
        "    # YOUR CODE HERE\n",
        "    raise NotImplementedError()\n"
      ]
    },
    {
      "cell_type": "code",
      "execution_count": null,
      "metadata": {
        "id": "LyIS8lfLD9ZZ"
      },
      "outputs": [],
      "source": [
        "from unittest.mock import patch\n",
        "from io import StringIO\n",
        "\n",
        "def test_get_and_print_text_and_student_id(inputs, outputs):\n",
        "    # We are passing the inputs to the function and capturing the output\n",
        "    with patch('builtins.input', side_effect=inputs), patch('sys.stdout', new_callable=StringIO) as mock_stdout:\n",
        "        get_and_print_text_and_student_id()\n",
        "\n",
        "    # strip any whitespaces and newlines\n",
        "    your_output = mock_stdout.getvalue().strip()\n",
        "    outputs = outputs.strip()\n",
        "\n",
        "    # check if the printed output is correct\n",
        "    assert your_output == outputs, 'Test Failed.\\nYour printed output: {}\\nExpected output: {}'.format(your_output, outputs)\n",
        "    print('Test Passed')\n"
      ]
    },
    {
      "cell_type": "code",
      "execution_count": null,
      "metadata": {
        "id": "NQqoO_pyD9Za"
      },
      "outputs": [],
      "source": [
        "test_get_and_print_text_and_student_id(['1235'],'Your student ID is 1235')"
      ]
    },
    {
      "cell_type": "code",
      "execution_count": null,
      "metadata": {
        "id": "PWfiiWOQD9Za"
      },
      "outputs": [],
      "source": [
        "test_get_and_print_student_id(['6431234523'],'Your student ID is 6431234523')"
      ]
    },
    {
      "cell_type": "code",
      "execution_count": null,
      "metadata": {
        "id": "Y_4P6u1pD9Za"
      },
      "outputs": [],
      "source": [
        "test_get_and_print_student_id([''],'Your student ID is ')"
      ]
    },
    {
      "cell_type": "markdown",
      "metadata": {
        "id": "z4nGDAalD9Za"
      },
      "source": [
        "# (5 pts.) Q-4\n",
        "\n",
        "Write a program that reads a Thai mobile phone number, one digit at a time, and prints it in the format of `xxx-xxx-xxxx`. For example, if the input is `0812345678`, the output should be `081-234-5678`.\n",
        "\n",
        "There are 3 shown test cases and 2 hidden test cases. The total points for this question is 5.\n",
        "\n",
        "Example test cases\n",
        "\n",
        "**0`⏎`**\\\n",
        "**8`⏎`**\\\n",
        "**1`⏎`**\\\n",
        "**2`⏎`**\\\n",
        "**3`⏎`**\\\n",
        "**4`⏎`**\\\n",
        "**5`⏎`**\\\n",
        "**6`⏎`**\\\n",
        "**7`⏎`**\\\n",
        "**8`⏎`**\\\n",
        "081-234-5678\n",
        "\n",
        "**0`⏎`**\\\n",
        "**9`⏎`**\\\n",
        "**9`⏎`**\\\n",
        "**9`⏎`**\\\n",
        "**0`⏎`**\\\n",
        "**1`⏎`**\\\n",
        "**9`⏎`**\\\n",
        "**9`⏎`**\\\n",
        "**9`⏎`**\\\n",
        "**9`⏎`**\\\n",
        "099-901-9999\n",
        "\n",
        "**0`⏎`**\\\n",
        "**6`⏎`**\\\n",
        "**2`⏎`**\\\n",
        "**4`⏎`**\\\n",
        "**5`⏎`**\\\n",
        "**6`⏎`**\\\n",
        "**7`⏎`**\\\n",
        "**8`⏎`**\\\n",
        "**9`⏎`**\\\n",
        "**0`⏎`**\\\n",
        "062-456-7890"
      ]
    },
    {
      "cell_type": "code",
      "execution_count": null,
      "metadata": {
        "id": "4iz1-BNUD9Za"
      },
      "outputs": [],
      "source": [
        "def read_mobile_number():\n",
        "    # YOUR CODE HERE\n",
        "    raise NotImplementedError()\n"
      ]
    },
    {
      "cell_type": "code",
      "execution_count": null,
      "metadata": {
        "id": "t3LuUUXaD9Za"
      },
      "outputs": [],
      "source": [
        "from unittest.mock import patch\n",
        "from io import StringIO\n",
        "\n",
        "def test_read_mobile_number(inputs, outputs):\n",
        "    # We are passing the inputs to the function and capturing the output\n",
        "    with patch('builtins.input', side_effect=inputs), patch('sys.stdout', new_callable=StringIO) as mock_stdout:\n",
        "        read_mobile_number()\n",
        "\n",
        "    # strip any whitespaces and newlines\n",
        "    your_output = mock_stdout.getvalue().strip()\n",
        "    outputs = outputs.strip()\n",
        "\n",
        "    # check if the printed output is correct\n",
        "    assert your_output == outputs, 'Test Failed.\\nYour printed output: {}\\nExpected output: {}'.format(your_output, outputs)\n",
        "    print('Test Passed')\n"
      ]
    },
    {
      "cell_type": "code",
      "execution_count": null,
      "metadata": {
        "id": "sOa4g5K_D9Zb"
      },
      "outputs": [],
      "source": [
        "test_read_mobile_number(['0','8','1','2','3','4','5','6','7','8'], '081-234-5678')"
      ]
    },
    {
      "cell_type": "code",
      "execution_count": null,
      "metadata": {
        "id": "DIXHvlH6D9Zb"
      },
      "outputs": [],
      "source": [
        "test_read_mobile_number(['0','9','9','9','0','1','9','9','9','9'], '099-901-9999')"
      ]
    },
    {
      "cell_type": "code",
      "execution_count": null,
      "metadata": {
        "id": "scebZaoCD9Zb"
      },
      "outputs": [],
      "source": [
        "test_read_mobile_number(['0','6','2','4','5','6','7','8','9','0'], '062-456-7890')"
      ]
    },
    {
      "cell_type": "markdown",
      "metadata": {
        "id": "Eo6K9COAD9Zb"
      },
      "source": [
        "# (5 pts.) Q-5\n",
        "\n",
        "Write a program that reads a Thai mobile phone number, one digit at a time, and find the summation of all digits. For example, if the input is 0812345678, the output should be 44.\n",
        "\n",
        "There are 3 shown test cases and 2 hidden test cases. The total points for this question is 5.\n",
        "\n",
        "Example test cases\n",
        "\n",
        "**0`⏎`**\\\n",
        "**8`⏎`**\\\n",
        "**1`⏎`**\\\n",
        "**2`⏎`**\\\n",
        "**3`⏎`**\\\n",
        "**4`⏎`**\\\n",
        "**5`⏎`**\\\n",
        "**6`⏎`**\\\n",
        "**7`⏎`**\\\n",
        "**8`⏎`**\\\n",
        "44\n",
        "\n",
        "**0`⏎`**\\\n",
        "**9`⏎`**\\\n",
        "**9`⏎`**\\\n",
        "**9`⏎`**\\\n",
        "**0`⏎`**\\\n",
        "**1`⏎`**\\\n",
        "**9`⏎`**\\\n",
        "**9`⏎`**\\\n",
        "**9`⏎`**\\\n",
        "**9`⏎`**\\\n",
        "64\n",
        "\n",
        "**0`⏎`**\\\n",
        "**6`⏎`**\\\n",
        "**2`⏎`**\\\n",
        "**4`⏎`**\\\n",
        "**5`⏎`**\\\n",
        "**6`⏎`**\\\n",
        "**7`⏎`**\\\n",
        "**8`⏎`**\\\n",
        "**9`⏎`**\\\n",
        "**0`⏎`**\\\n",
        "47"
      ]
    },
    {
      "cell_type": "code",
      "execution_count": null,
      "metadata": {
        "id": "4EjPOlltD9Zc"
      },
      "outputs": [],
      "source": [
        "def read_mobile_lucky_number():\n",
        "    # YOUR CODE HERE\n",
        "    raise NotImplementedError()\n"
      ]
    },
    {
      "cell_type": "code",
      "execution_count": null,
      "metadata": {
        "id": "akRMOpGJD9Zc"
      },
      "outputs": [],
      "source": [
        "from unittest.mock import patch\n",
        "from io import StringIO\n",
        "\n",
        "def test_read_mobile_lucky_number(inputs, outputs):\n",
        "    # We are passing the inputs to the function and capturing the output\n",
        "    with patch('builtins.input', side_effect=inputs), patch('sys.stdout', new_callable=StringIO) as mock_stdout:\n",
        "        read_mobile_lucky_number()\n",
        "\n",
        "    # read calculated output\n",
        "    your_output = int(mock_stdout.getvalue())\n",
        "\n",
        "    # check if the printed output is correct\n",
        "    assert your_output == outputs, 'Test Failed.\\nYour printed output: {}\\nExpected output: {}'.format(your_output, outputs)\n",
        "    print('Test Passed')\n"
      ]
    },
    {
      "cell_type": "code",
      "execution_count": null,
      "metadata": {
        "id": "AYfq9_z1D9Zc"
      },
      "outputs": [],
      "source": [
        "test_read_mobile_lucky_number(['0','8','1','2','3','4','5','6','7','8'], 44)"
      ]
    },
    {
      "cell_type": "code",
      "execution_count": null,
      "metadata": {
        "id": "cdmX2APfD9Zc"
      },
      "outputs": [],
      "source": [
        "test_read_mobile_lucky_number(['0','9','9','9','0','1','9','9','9','9'], 64)"
      ]
    },
    {
      "cell_type": "code",
      "execution_count": null,
      "metadata": {
        "id": "EPJHFehMD9Zc"
      },
      "outputs": [],
      "source": [
        "test_read_mobile_lucky_number(['0','6','2','4','5','6','7','8','9','0'], 47)"
      ]
    }
  ],
  "metadata": {
    "kernelspec": {
      "display_name": "compprog",
      "language": "python",
      "name": "python3"
    },
    "language_info": {
      "codemirror_mode": {
        "name": "ipython",
        "version": 3
      },
      "file_extension": ".py",
      "mimetype": "text/x-python",
      "name": "python",
      "nbconvert_exporter": "python",
      "pygments_lexer": "ipython3",
      "version": "3.10.4"
    },
    "orig_nbformat": 4,
    "colab": {
      "provenance": [],
      "include_colab_link": true
    }
  },
  "nbformat": 4,
  "nbformat_minor": 0
}