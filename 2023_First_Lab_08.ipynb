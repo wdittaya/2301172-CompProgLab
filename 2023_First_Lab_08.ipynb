{
  "cells": [
    {
      "cell_type": "markdown",
      "metadata": {
        "id": "view-in-github",
        "colab_type": "text"
      },
      "source": [
        "<a href=\"https://colab.research.google.com/github/wdittaya/2301172-CompProgLab/blob/main/2023_First_Lab_08.ipynb\" target=\"_parent\"><img src=\"https://colab.research.google.com/assets/colab-badge.svg\" alt=\"Open In Colab\"/></a>"
      ]
    },
    {
      "cell_type": "markdown",
      "id": "c6aae101",
      "metadata": {
        "id": "c6aae101"
      },
      "source": [
        "# Instructions\n",
        "\n",
        "1. Write everything after the tag `# YOUR CODE HERE`\n",
        "2. Delete the `raise NotImplementedError()` line when you start implementing your code. It will throw an error if you didn't implement anything (and, you will not got any score).\n",
        "3. Name your file with your student ID and lab number, e.g. `6431234523-lab-08.ipynb`\n",
        "4. If you want to run your function, do it in a separate cell. Do not run the function in the definition cell. **Note:** If you run the function in the definition cell, you will get an error with the hidden test case.\n",
        "\n",
        "**DO NOT CHANGE THE FUNCTION NAME!!!**"
      ]
    },
    {
      "cell_type": "markdown",
      "id": "57fc0c36",
      "metadata": {
        "id": "57fc0c36"
      },
      "source": [
        "#  Lab-08 Inner Product\n",
        "\n",
        "The objective of this lab is to practice with for and list. You will implement a function that calculates the inner product of two vectors from two files."
      ]
    },
    {
      "cell_type": "markdown",
      "id": "fc6b54d2",
      "metadata": {
        "id": "fc6b54d2"
      },
      "source": [
        "# (4 pts.) Q1: Read a file and return a list of numbers\n",
        "\n",
        "Implement a function that has a filename as its parameter and returns a list of numbers. Each line in the file contains a number. The function should return a list of float numbers."
      ]
    },
    {
      "cell_type": "markdown",
      "id": "8c45e687",
      "metadata": {
        "id": "8c45e687"
      },
      "source": [
        "Example test cases\n",
        "\n",
        "Example file: `data1.txt`\\\n",
        "file content:\\\n",
        "1\\\n",
        "2\\\n",
        "2.5\\\n",
        "4\\\n",
        "-1\n",
        "\n",
        "Example file: `data2.txt`\\\n",
        "file content:\\\n",
        "10\\\n",
        "2.1\\\n",
        "-3.45\\\n",
        "4"
      ]
    },
    {
      "cell_type": "code",
      "execution_count": null,
      "id": "93234834",
      "metadata": {
        "id": "93234834"
      },
      "outputs": [],
      "source": [
        "def get_vector(filename):\n",
        "    # YOUR CODE HERE\n",
        "    raise NotImplementedError\n"
      ]
    },
    {
      "cell_type": "code",
      "execution_count": null,
      "id": "edee900a",
      "metadata": {
        "id": "edee900a"
      },
      "outputs": [],
      "source": [
        "from unittest.mock import patch\n",
        "from io import StringIO\n",
        "\n",
        "def test_get_vector(inputs, outputs):\n",
        "    expected_output = outputs\n",
        "    actual_output = get_vector(inputs)\n",
        "\n",
        "    assert expected_output == actual_output, 'Test Failed.\\nYour returned output: {}\\nExpected output: {}'.format(actual_output, expected_output)\n",
        "    print('Test Passed')"
      ]
    },
    {
      "cell_type": "code",
      "execution_count": null,
      "id": "928d8cf5",
      "metadata": {
        "id": "928d8cf5"
      },
      "outputs": [],
      "source": [
        "test_get_vector('data1.txt', [1.0, 2.0, 2.5, 4.0, -1.0])"
      ]
    },
    {
      "cell_type": "code",
      "execution_count": null,
      "id": "8deb8d07",
      "metadata": {
        "id": "8deb8d07"
      },
      "outputs": [],
      "source": [
        "test_get_vector('data2.txt', [10.0, 2.1, -3.45, 4.0])"
      ]
    },
    {
      "cell_type": "markdown",
      "id": "6a6adec3",
      "metadata": {
        "id": "6a6adec3"
      },
      "source": [
        "# Q2 (8 pts.)\n",
        "\n",
        "Implement a function that reads two files of vectors and print the inner product of two vectors. If the size of the two vectors are not the same, print an error message."
      ]
    },
    {
      "cell_type": "markdown",
      "id": "8LdqdkrkPuqR",
      "metadata": {
        "id": "8LdqdkrkPuqR"
      },
      "source": [
        "Example test cases\n",
        "- texts in **bold** are input from the user\n",
        "- `⏎` indicates the cariage return symbol (i.e. the user pressed the enter key)\n",
        "\n",
        "Enter vector1 file: **data1.txt⏎**\\\n",
        "Enter vector2 file: **data2.txt⏎**\\\n",
        "Error: The size of the two vectors are not the same.\n",
        "\n",
        "Enter vector1 file: **data1.txt⏎**\\\n",
        "Enter vector2 file: **data1.txt⏎**\\\n",
        "The inner product of two vectors is 28.25\n",
        "\n",
        "Enter vector1 file: **data2.txt⏎**\\\n",
        "Enter vector2 file: **data2.txt⏎**\\\n",
        "The inner product of two vectors is 132.3125\n"
      ]
    },
    {
      "cell_type": "code",
      "execution_count": null,
      "id": "sRT-v0PnPuqS",
      "metadata": {
        "id": "sRT-v0PnPuqS"
      },
      "outputs": [],
      "source": [
        "def get_inner_product():\n",
        "    # YOUR CODE HERE\n",
        "    raise NotImplementedError"
      ]
    },
    {
      "cell_type": "code",
      "execution_count": null,
      "id": "IXiS25r6PuqS",
      "metadata": {
        "id": "IXiS25r6PuqS"
      },
      "outputs": [],
      "source": [
        "from unittest.mock import patch\n",
        "from io import StringIO\n",
        "\n",
        "def test_get_inner_product(inputs, outputs):\n",
        "    with patch('builtins.input', side_effect=inputs), patch('sys.stdout', new_callable=StringIO) as mock_stdout:\n",
        "        get_inner_product()\n",
        "\n",
        "        expected_output = outputs.strip()\n",
        "        actual_output = mock_stdout.getvalue().strip()\n",
        "\n",
        "        assert expected_output == actual_output, 'Test Failed.\\nYour printed output: {}\\nExpected output: {}'.format(actual_output, expected_output)\n",
        "    print('Test Passed')"
      ]
    },
    {
      "cell_type": "code",
      "execution_count": null,
      "id": "nVF9pa-UPuqS",
      "metadata": {
        "id": "nVF9pa-UPuqS"
      },
      "outputs": [],
      "source": [
        "test_get_inner_product(['data1.txt', 'data2.txt'], 'Error: The size of the two vectors are not the same.')"
      ]
    },
    {
      "cell_type": "code",
      "execution_count": null,
      "id": "386a193b",
      "metadata": {
        "id": "386a193b"
      },
      "outputs": [],
      "source": [
        "test_get_inner_product(['data1.txt', 'data1.txt'], 'The inner product of two vectors is 28.25')"
      ]
    },
    {
      "cell_type": "code",
      "execution_count": null,
      "id": "4402cb10",
      "metadata": {
        "id": "4402cb10"
      },
      "outputs": [],
      "source": [
        "test_get_inner_product(['data2.txt', 'data2.txt'], 'The inner product of two vectors is 132.3125')"
      ]
    }
  ],
  "metadata": {
    "colab": {
      "provenance": [],
      "include_colab_link": true
    },
    "kernelspec": {
      "display_name": "Python 3.8.8 ('base')",
      "language": "python",
      "name": "python3"
    },
    "language_info": {
      "codemirror_mode": {
        "name": "ipython",
        "version": 3
      },
      "file_extension": ".py",
      "mimetype": "text/x-python",
      "name": "python",
      "nbconvert_exporter": "python",
      "pygments_lexer": "ipython3",
      "version": "3.10.4"
    },
    "vscode": {
      "interpreter": {
        "hash": "03adaee776292f2263426464639388749bf78930e8b883d5f988c57ae7094739"
      }
    }
  },
  "nbformat": 4,
  "nbformat_minor": 5
}