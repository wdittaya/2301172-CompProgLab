{
  "cells": [
    {
      "cell_type": "markdown",
      "metadata": {
        "id": "view-in-github",
        "colab_type": "text"
      },
      "source": [
        "<a href=\"https://colab.research.google.com/github/wdittaya/2301172-CompProgLab/blob/main/2023_First_Lab_05.ipynb\" target=\"_parent\"><img src=\"https://colab.research.google.com/assets/colab-badge.svg\" alt=\"Open In Colab\"/></a>"
      ]
    },
    {
      "cell_type": "markdown",
      "metadata": {
        "id": "GLX0dRqk-p4G"
      },
      "source": [
        "# Instructions\n",
        "\n",
        "1. Write everything after the tag `# YOUR CODE HERE`\n",
        "2. Delete the `raise NotImplementedError()` line when you start implementing your code. It will throw an error if you didn't implement anything (and, you will not got any score).\n",
        "3. Name your file with your student ID and lab number, e.g. `6431234523-lab-05.ipynb`\n",
        "4. If you want to run your function, do it in a separate cell. Do not run the function in the definition cell. **Note:** If you run the function in the definition cell, you will get an error with the hidden test case.\n",
        "\n",
        "**DO NOT CHANGE THE FUNCTION NAME!!!**"
      ]
    },
    {
      "cell_type": "markdown",
      "metadata": {
        "id": "9hfobSuJ-p4N"
      },
      "source": [
        "# Lab-05 Outline\n",
        "\n",
        "The objective of this lab is to practice with a while loop."
      ]
    },
    {
      "cell_type": "markdown",
      "metadata": {
        "id": "6cTwXD7--p4O"
      },
      "source": [
        "# (4 pts.) Q1\n",
        "\n",
        "Implement a function that reads the starting and ending integers from the user and then prints all of the numbers between those two values (inclusive) on a single line. Print a space between each number.\n",
        "\n",
        "**Note:** You can assume that the user will enter integers for both starting and ending values. The starting value will always be less than or equal to the ending value."
      ]
    },
    {
      "cell_type": "markdown",
      "metadata": {
        "id": "NxQPvI2v-p4P"
      },
      "source": [
        "Example test cases\n",
        "- texts in **bold** are input from the user\n",
        "- `⏎` indicates the cariage return symbol (i.e. the user pressed the enter key)\n",
        "\n",
        "Starting number: **5⏎**\\\n",
        "Ending number: **10⏎**\\\n",
        "5 6 7 8 9 10\n",
        "\n",
        "Starting number: **-3⏎**\\\n",
        "Ending number: **3⏎**\\\n",
        "-3 -2 -1 0 1 2 3"
      ]
    },
    {
      "cell_type": "code",
      "execution_count": null,
      "metadata": {
        "id": "uFdYFn2B-p4R"
      },
      "outputs": [],
      "source": [
        "def print_numbers():\n",
        "    # YOUR CODE HERE\n",
        "    raise NotImplementedError()"
      ]
    },
    {
      "cell_type": "code",
      "execution_count": null,
      "metadata": {
        "id": "ukEdEn3S-p4W"
      },
      "outputs": [],
      "source": [
        "from unittest.mock import patch\n",
        "from io import StringIO\n",
        "\n",
        "def test_print_numbers(inputs, outputs):\n",
        "    with patch('builtins.input', side_effect=inputs), patch('sys.stdout', new_callable=StringIO) as mock_stdout:\n",
        "        print_numbers()\n",
        "\n",
        "        expected_output = outputs.strip()\n",
        "        actual_output = mock_stdout.getvalue().strip()\n",
        "\n",
        "        # comparing expected and actual output\n",
        "        assert expected_output == actual_output, 'Test Failed.\\nYour printed output: {}\\nExpected output: {}'.format(actual_output, expected_output)\n",
        "    print('Test Passed')"
      ]
    },
    {
      "cell_type": "code",
      "execution_count": null,
      "metadata": {
        "id": "PlBhPyrE-p4Y"
      },
      "outputs": [],
      "source": [
        "test_print_numbers(['5','10'], '5 6 7 8 9 10')"
      ]
    },
    {
      "cell_type": "code",
      "execution_count": null,
      "metadata": {
        "id": "OgTH1drW-p4Z"
      },
      "outputs": [],
      "source": [
        "test_print_numbers(['-3','3'], '-3 -2 -1 0 1 2 3')"
      ]
    },
    {
      "cell_type": "markdown",
      "metadata": {
        "id": "z6KVI8mG-p4b"
      },
      "source": [
        "# (6 pts.) Q2\n",
        "\n",
        "Implement a function that reads the principal amount, the number of years and the annual interest rate from the user and displays the value of an investment after the given number of years. Round the amount into two decimal places."
      ]
    },
    {
      "cell_type": "markdown",
      "metadata": {
        "id": "kPgfvkFm-p4c"
      },
      "source": [
        "Example test cases\n",
        "- texts in **bold** are input from the user\n",
        "- `⏎` indicates the cariage return symbol (i.e. the user pressed the enter key)\n",
        "\n",
        "Principal amount: **1000⏎**\\\n",
        "Interest rate (%): **10⏎**\\\n",
        "Number of years: **5⏎**\\\n",
        "Year Amount Interest Total\\\n",
        "1 1000.0 100.0 1100.0\\\n",
        "2 1100.0 110.0 1210.0\\\n",
        "3 1210.0 121.0 1331.0\\\n",
        "4 1331.0 133.1 1464.1\\\n",
        "5 1464.1 146.41 1610.51\n",
        "\n",
        "Principal amount: **5000⏎**\\\n",
        "Interest rate (%): **5⏎**\\\n",
        "Number of years: **10⏎**\\\n",
        "Year Amount Interest Total\\\n",
        "1 5000.00 250.00 5250.00\\\n",
        "2 5250.00 262.50 5512.50\\\n",
        "3 5512.50 275.63 5788.13\\\n",
        "4 5788.13 289.41 6077.54\\\n",
        "5 6077.54 303.88 6381.42\\\n",
        "6 6381.42 319.07 6700.49\\\n",
        "7 6700.49 335.02 7035.51\\\n",
        "8 7035.51 351.78 7387.29\\\n",
        "9 7387.29 369.36 7756.65\\\n",
        "10 7756.65 387.83 8144.48\n"
      ]
    },
    {
      "cell_type": "code",
      "execution_count": null,
      "metadata": {
        "id": "gOToMKXG-p4e"
      },
      "outputs": [],
      "source": [
        "def calculate_total_amount():\n",
        "    # YOUR CODE HERE\n",
        "    raise NotImplementedError()"
      ]
    },
    {
      "cell_type": "code",
      "execution_count": null,
      "metadata": {
        "id": "ssgUc6gR-p4f"
      },
      "outputs": [],
      "source": [
        "from unittest.mock import patch\n",
        "from io import StringIO\n",
        "\n",
        "def test_calculate_total_amount(inputs, outputs):\n",
        "    with patch('builtins.input', side_effect=inputs), patch('sys.stdout', new_callable=StringIO) as mock_stdout:\n",
        "        calculate_total_amount()\n",
        "\n",
        "        expected_output = outputs.strip()\n",
        "        actual_output = mock_stdout.getvalue().strip()\n",
        "\n",
        "        score = 0\n",
        "\n",
        "        answer_lines = actual_output.split('\\n')\n",
        "        expected_lines = expected_output.split('\\n')\n",
        "\n",
        "        if len(answer_lines) == len(expected_lines):\n",
        "            score += 1\n",
        "\n",
        "        for i in range(1, len(expected_lines)):\n",
        "            expected_line = map(float, expected_lines[i].split())\n",
        "            answer_line = map(float,answer_lines[i].split())\n",
        "\n",
        "            if expected_line == answer_line:\n",
        "                score += 1\n",
        "            else:\n",
        "                for item in expected_line:\n",
        "                    if item in answer_line:\n",
        "                        score += 0.25\n",
        "\n",
        "\n",
        "        # comparing expected and actual output\n",
        "        assert score == len(expected_lines), 'Score {}/{} Test Failed.\\nYour printed output: {}\\nExpected output: {}'.format(score, len(expected_lines), actual_output, expected_output)\n",
        "    print('Test Passed')"
      ]
    },
    {
      "cell_type": "code",
      "execution_count": null,
      "metadata": {
        "id": "v1rBtgW6-p4g"
      },
      "outputs": [],
      "source": [
        "test_calculate_total_amount(['1000', '10', '5'], 'Year Amount Interest Total\\n1 1000.0 100.0 1100.0\\n2 1100.0 110.0 1210.0\\n3 1210.0 121.0 1331.0\\n4 1331.0 133.1 1464.1\\n5 1464.1 146.41 1610.51')"
      ]
    },
    {
      "cell_type": "code",
      "execution_count": null,
      "metadata": {
        "id": "9dLAEccP-p4h"
      },
      "outputs": [],
      "source": [
        "test_calculate_total_amount(['5000', '5', '10'], 'Year Amount Interest Total\\n1 5000.0 250.0 5250.0\\n2 5250.0 262.5 5512.5\\n3 5512.5 275.625 5788.12\\n4 5788.12 289.40625 6077.53\\n5 6077.53 303.8765625 6381.41\\n6 6381.41 319.070390625 6700.48\\n7 6700.48 335.02391015625 7035.5\\n8 7035.5 351.7751056640625 7387.28\\n9 7387.28 369.36386094726566 7756.64\\n10 7756.64 387.8320539946289 8144.47\\n')"
      ]
    }
  ],
  "metadata": {
    "kernelspec": {
      "display_name": "compprog",
      "language": "python",
      "name": "python3"
    },
    "language_info": {
      "codemirror_mode": {
        "name": "ipython",
        "version": 3
      },
      "file_extension": ".py",
      "mimetype": "text/x-python",
      "name": "python",
      "nbconvert_exporter": "python",
      "pygments_lexer": "ipython3",
      "version": "3.10.4"
    },
    "orig_nbformat": 4,
    "colab": {
      "provenance": [],
      "include_colab_link": true
    }
  },
  "nbformat": 4,
  "nbformat_minor": 0
}